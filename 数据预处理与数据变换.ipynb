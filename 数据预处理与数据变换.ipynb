{
 "cells": [
  {
   "attachments": {},
   "cell_type": "markdown",
   "metadata": {},
   "source": [
    "# 数据处理"
   ]
  },
  {
   "attachments": {},
   "cell_type": "markdown",
   "metadata": {},
   "source": [
    "## 导入数据及展示"
   ]
  },
  {
   "cell_type": "code",
   "execution_count": 1,
   "metadata": {},
   "outputs": [],
   "source": [
    "import pandas as pd"
   ]
  },
  {
   "cell_type": "code",
   "execution_count": 3,
   "metadata": {},
   "outputs": [
    {
     "data": {
      "text/html": [
       "<div>\n",
       "<style scoped>\n",
       "    .dataframe tbody tr th:only-of-type {\n",
       "        vertical-align: middle;\n",
       "    }\n",
       "\n",
       "    .dataframe tbody tr th {\n",
       "        vertical-align: top;\n",
       "    }\n",
       "\n",
       "    .dataframe thead th {\n",
       "        text-align: right;\n",
       "    }\n",
       "</style>\n",
       "<table border=\"1\" class=\"dataframe\">\n",
       "  <thead>\n",
       "    <tr style=\"text-align: right;\">\n",
       "      <th></th>\n",
       "      <th>order_id</th>\n",
       "      <th>user_id</th>\n",
       "      <th>price</th>\n",
       "      <th>platform</th>\n",
       "      <th>payment_provider</th>\n",
       "      <th>create_time</th>\n",
       "      <th>pay_time</th>\n",
       "    </tr>\n",
       "  </thead>\n",
       "  <tbody>\n",
       "    <tr>\n",
       "      <th>0</th>\n",
       "      <td>1</td>\n",
       "      <td>105654733</td>\n",
       "      <td>24800</td>\n",
       "      <td>ios</td>\n",
       "      <td>applepay</td>\n",
       "      <td>2020/4/2 16:50</td>\n",
       "      <td>2020/4/2 16:46</td>\n",
       "    </tr>\n",
       "    <tr>\n",
       "      <th>1</th>\n",
       "      <td>2</td>\n",
       "      <td>47292399</td>\n",
       "      <td>24800</td>\n",
       "      <td>android</td>\n",
       "      <td>NaN</td>\n",
       "      <td>2020/4/5 16:17</td>\n",
       "      <td>2020/4/5 16:18</td>\n",
       "    </tr>\n",
       "    <tr>\n",
       "      <th>2</th>\n",
       "      <td>3</td>\n",
       "      <td>97811248</td>\n",
       "      <td>6800</td>\n",
       "      <td>android</td>\n",
       "      <td>NaN</td>\n",
       "      <td>2019/12/5 16:42</td>\n",
       "      <td>2019/12/5 16:42</td>\n",
       "    </tr>\n",
       "    <tr>\n",
       "      <th>3</th>\n",
       "      <td>4</td>\n",
       "      <td>106005331</td>\n",
       "      <td>6800</td>\n",
       "      <td>ios</td>\n",
       "      <td>wxpay</td>\n",
       "      <td>2019/11/22 10:06</td>\n",
       "      <td>2019/11/22 10:06</td>\n",
       "    </tr>\n",
       "    <tr>\n",
       "      <th>4</th>\n",
       "      <td>5</td>\n",
       "      <td>106005331</td>\n",
       "      <td>6800</td>\n",
       "      <td>ios</td>\n",
       "      <td>wxpay</td>\n",
       "      <td>2020/5/24 6:34</td>\n",
       "      <td>2020/5/24 6:34</td>\n",
       "    </tr>\n",
       "  </tbody>\n",
       "</table>\n",
       "</div>"
      ],
      "text/plain": [
       "   order_id    user_id  price platform payment_provider       create_time  \\\n",
       "0         1  105654733  24800      ios         applepay    2020/4/2 16:50   \n",
       "1         2   47292399  24800  android              NaN    2020/4/5 16:17   \n",
       "2         3   97811248   6800  android              NaN   2019/12/5 16:42   \n",
       "3         4  106005331   6800      ios            wxpay  2019/11/22 10:06   \n",
       "4         5  106005331   6800      ios            wxpay    2020/5/24 6:34   \n",
       "\n",
       "           pay_time  \n",
       "0    2020/4/2 16:46  \n",
       "1    2020/4/5 16:18  \n",
       "2   2019/12/5 16:42  \n",
       "3  2019/11/22 10:06  \n",
       "4    2020/5/24 6:34  "
      ]
     },
     "execution_count": 3,
     "metadata": {},
     "output_type": "execute_result"
    }
   ],
   "source": [
    "data = pd.read_csv(\"./input/视频会员订单数据源.csv\")\n",
    "data.head(5)"
   ]
  },
  {
   "cell_type": "code",
   "execution_count": 12,
   "metadata": {},
   "outputs": [
    {
     "data": {
      "text/plain": [
       "order_id              0\n",
       "user_id               0\n",
       "price                 0\n",
       "platform            404\n",
       "payment_provider     22\n",
       "create_time           0\n",
       "pay_time              0\n",
       "dtype: int64"
      ]
     },
     "execution_count": 12,
     "metadata": {},
     "output_type": "execute_result"
    }
   ],
   "source": [
    "data.isnull().sum()"
   ]
  },
  {
   "attachments": {},
   "cell_type": "markdown",
   "metadata": {},
   "source": [
    "## 常用的基础操作"
   ]
  },
  {
   "attachments": {},
   "cell_type": "markdown",
   "metadata": {},
   "source": [
    "### 同时展示多列数据"
   ]
  },
  {
   "cell_type": "code",
   "execution_count": 13,
   "metadata": {},
   "outputs": [
    {
     "data": {
      "text/html": [
       "<div>\n",
       "<style scoped>\n",
       "    .dataframe tbody tr th:only-of-type {\n",
       "        vertical-align: middle;\n",
       "    }\n",
       "\n",
       "    .dataframe tbody tr th {\n",
       "        vertical-align: top;\n",
       "    }\n",
       "\n",
       "    .dataframe thead th {\n",
       "        text-align: right;\n",
       "    }\n",
       "</style>\n",
       "<table border=\"1\" class=\"dataframe\">\n",
       "  <thead>\n",
       "    <tr style=\"text-align: right;\">\n",
       "      <th></th>\n",
       "      <th>order_id</th>\n",
       "      <th>user_id</th>\n",
       "    </tr>\n",
       "  </thead>\n",
       "  <tbody>\n",
       "    <tr>\n",
       "      <th>0</th>\n",
       "      <td>1</td>\n",
       "      <td>105654733</td>\n",
       "    </tr>\n",
       "    <tr>\n",
       "      <th>1</th>\n",
       "      <td>2</td>\n",
       "      <td>47292399</td>\n",
       "    </tr>\n",
       "    <tr>\n",
       "      <th>2</th>\n",
       "      <td>3</td>\n",
       "      <td>97811248</td>\n",
       "    </tr>\n",
       "  </tbody>\n",
       "</table>\n",
       "</div>"
      ],
      "text/plain": [
       "   order_id    user_id\n",
       "0         1  105654733\n",
       "1         2   47292399\n",
       "2         3   97811248"
      ]
     },
     "execution_count": 13,
     "metadata": {},
     "output_type": "execute_result"
    }
   ],
   "source": [
    "# 同时展示order_id 和 user_id两列\n",
    "data[['order_id','user_id']].head(3)\n",
    "# 注意是两个[]"
   ]
  },
  {
   "attachments": {},
   "cell_type": "markdown",
   "metadata": {},
   "source": [
    "### 索引"
   ]
  },
  {
   "attachments": {},
   "cell_type": "markdown",
   "metadata": {},
   "source": [
    "#### 查看/输出索引"
   ]
  },
  {
   "cell_type": "code",
   "execution_count": 6,
   "metadata": {},
   "outputs": [
    {
     "data": {
      "text/plain": [
       "[0, 1, 2, 3, 4]"
      ]
     },
     "execution_count": 6,
     "metadata": {},
     "output_type": "execute_result"
    }
   ],
   "source": [
    "data.index.to_list()[:5]"
   ]
  },
  {
   "attachments": {},
   "cell_type": "markdown",
   "metadata": {},
   "source": [
    "#### 重置索引"
   ]
  },
  {
   "cell_type": "code",
   "execution_count": null,
   "metadata": {},
   "outputs": [],
   "source": []
  },
  {
   "attachments": {},
   "cell_type": "markdown",
   "metadata": {},
   "source": [
    "### loc的用法"
   ]
  },
  {
   "cell_type": "code",
   "execution_count": null,
   "metadata": {},
   "outputs": [],
   "source": []
  },
  {
   "attachments": {},
   "cell_type": "markdown",
   "metadata": {},
   "source": [
    "### iloc的用法"
   ]
  },
  {
   "attachments": {},
   "cell_type": "markdown",
   "metadata": {},
   "source": [
    "### 修改列名、添加列、修改列的位置"
   ]
  },
  {
   "attachments": {},
   "cell_type": "markdown",
   "metadata": {},
   "source": [
    "### 改变数据类型"
   ]
  },
  {
   "cell_type": "code",
   "execution_count": 9,
   "metadata": {},
   "outputs": [
    {
     "name": "stdout",
     "output_type": "stream",
     "text": [
      "<class 'pandas.core.frame.DataFrame'>\n",
      "RangeIndex: 78049 entries, 0 to 78048\n",
      "Data columns (total 7 columns):\n",
      " #   Column            Non-Null Count  Dtype \n",
      "---  ------            --------------  ----- \n",
      " 0   order_id          78049 non-null  int64 \n",
      " 1   user_id           78049 non-null  int64 \n",
      " 2   price             78049 non-null  int64 \n",
      " 3   platform          77645 non-null  object\n",
      " 4   payment_provider  78027 non-null  object\n",
      " 5   create_time       78049 non-null  object\n",
      " 6   pay_time          78049 non-null  object\n",
      "dtypes: int64(3), object(4)\n",
      "memory usage: 4.2+ MB\n"
     ]
    }
   ],
   "source": [
    "# info方法查看数据类型等信息\n",
    "data.info()"
   ]
  },
  {
   "cell_type": "code",
   "execution_count": 10,
   "metadata": {},
   "outputs": [],
   "source": [
    "# 将price列改成float类型"
   ]
  },
  {
   "cell_type": "code",
   "execution_count": null,
   "metadata": {},
   "outputs": [],
   "source": [
    "# 更改之后\n",
    "data.info()"
   ]
  },
  {
   "attachments": {},
   "cell_type": "markdown",
   "metadata": {},
   "source": [
    "### 内置方法等"
   ]
  },
  {
   "attachments": {},
   "cell_type": "markdown",
   "metadata": {},
   "source": [
    "#### value_counts查看某一列数据情况（异常值）"
   ]
  },
  {
   "cell_type": "code",
   "execution_count": 14,
   "metadata": {},
   "outputs": [
    {
     "data": {
      "text/plain": [
       "24800    35043\n",
       "2500     31985\n",
       "6800     11018\n",
       "100          2\n",
       "1000         1\n",
       "Name: price, dtype: int64"
      ]
     },
     "execution_count": 14,
     "metadata": {},
     "output_type": "execute_result"
    }
   ],
   "source": [
    "data.price.value_counts()"
   ]
  },
  {
   "attachments": {},
   "cell_type": "markdown",
   "metadata": {},
   "source": [
    "#### drop_duplicates去重\n",
    "**df.drop_duplicates(subset=['A','B','C'],keep='first',inplace=True)**<br/>\n",
    "subset：表示要进去重的列名，默认为 None<br/>\n",
    "keep：有三个可选参数，分别是 first、last、False，默认为 first，表示只保留第一次出现的重复项，删除其余重复项<br/>last 表示只保留最后一次出现的重复项，False 则表示删除所有重复项。\n",
    "inplace：布尔值参数，默认为 False 表示删除重复项后返回一个副本<br/>若为 Ture 则表示直接在原数据上删除重复项。"
   ]
  },
  {
   "cell_type": "code",
   "execution_count": 17,
   "metadata": {},
   "outputs": [
    {
     "data": {
      "text/html": [
       "<div>\n",
       "<style scoped>\n",
       "    .dataframe tbody tr th:only-of-type {\n",
       "        vertical-align: middle;\n",
       "    }\n",
       "\n",
       "    .dataframe tbody tr th {\n",
       "        vertical-align: top;\n",
       "    }\n",
       "\n",
       "    .dataframe thead th {\n",
       "        text-align: right;\n",
       "    }\n",
       "</style>\n",
       "<table border=\"1\" class=\"dataframe\">\n",
       "  <thead>\n",
       "    <tr style=\"text-align: right;\">\n",
       "      <th></th>\n",
       "      <th>order_id</th>\n",
       "      <th>user_id</th>\n",
       "      <th>price</th>\n",
       "      <th>platform</th>\n",
       "      <th>payment_provider</th>\n",
       "      <th>create_time</th>\n",
       "      <th>pay_time</th>\n",
       "    </tr>\n",
       "  </thead>\n",
       "  <tbody>\n",
       "    <tr>\n",
       "      <th>0</th>\n",
       "      <td>1</td>\n",
       "      <td>105654733</td>\n",
       "      <td>24800</td>\n",
       "      <td>ios</td>\n",
       "      <td>applepay</td>\n",
       "      <td>2020/4/2 16:50</td>\n",
       "      <td>2020/4/2 16:46</td>\n",
       "    </tr>\n",
       "    <tr>\n",
       "      <th>1</th>\n",
       "      <td>2</td>\n",
       "      <td>47292399</td>\n",
       "      <td>24800</td>\n",
       "      <td>android</td>\n",
       "      <td>NaN</td>\n",
       "      <td>2020/4/5 16:17</td>\n",
       "      <td>2020/4/5 16:18</td>\n",
       "    </tr>\n",
       "    <tr>\n",
       "      <th>154</th>\n",
       "      <td>155</td>\n",
       "      <td>80110092</td>\n",
       "      <td>6800</td>\n",
       "      <td>NaN</td>\n",
       "      <td>alipay</td>\n",
       "      <td>2019/12/18 12:52</td>\n",
       "      <td>2019/12/18 12:53</td>\n",
       "    </tr>\n",
       "  </tbody>\n",
       "</table>\n",
       "</div>"
      ],
      "text/plain": [
       "     order_id    user_id  price platform payment_provider       create_time  \\\n",
       "0           1  105654733  24800      ios         applepay    2020/4/2 16:50   \n",
       "1           2   47292399  24800  android              NaN    2020/4/5 16:17   \n",
       "154       155   80110092   6800      NaN           alipay  2019/12/18 12:52   \n",
       "\n",
       "             pay_time  \n",
       "0      2020/4/2 16:46  \n",
       "1      2020/4/5 16:18  \n",
       "154  2019/12/18 12:53  "
      ]
     },
     "execution_count": 17,
     "metadata": {},
     "output_type": "execute_result"
    }
   ],
   "source": [
    "data.drop_duplicates('platform',keep='first',inplace=False)"
   ]
  },
  {
   "attachments": {},
   "cell_type": "markdown",
   "metadata": {},
   "source": [
    "## 数据融合\n",
    "数据分析时，经常需要处理来自不同数据源的数据，需要先对此类数据进行合并。数据合并指不同数据集的行或列连接起来。常用到的方法有merge( )、join( )、concat( )\n"
   ]
  },
  {
   "cell_type": "code",
   "execution_count": 3,
   "metadata": {},
   "outputs": [],
   "source": [
    "import pandas as pd"
   ]
  },
  {
   "attachments": {},
   "cell_type": "markdown",
   "metadata": {},
   "source": [
    "### merge"
   ]
  },
  {
   "attachments": {},
   "cell_type": "markdown",
   "metadata": {},
   "source": [
    "#### 基本用法和参数\n",
    "pd.merge(left,right,how='inner',on=None,left_on=None,right_on=None,left_index=False,right_index=False,sort=True,suffixes=('_x', '_y'))\n",
    "\n",
    "|参数|含义说明|\n",
    "|:------|:--------|\n",
    "|left和right|参与合并的左侧和右侧DataFrame数据对象|\n",
    "|how|指定合并方式，合并方式有'inner'、'outer'、'left'、'right'。默认为'inner'|\n",
    "|on|指定作为连接键的列名，默认为两个DataFrame中相同的列名|\n",
    "|left_on和right_on|左侧和右侧DataFrame中用作连接的键|\n",
    "|left_index和right_index|指定是否以索引作为键|\n",
    "|sort|根据连接键对合并后的数据进行排序，默认为True|\n",
    "|suffixes|字符串值元组。用于追加到重叠列名后的后缀，默认为('_x','_y')|\n"
   ]
  },
  {
   "attachments": {},
   "cell_type": "markdown",
   "metadata": {},
   "source": [
    "##### 合并方式 how参数"
   ]
  },
  {
   "attachments": {},
   "cell_type": "markdown",
   "metadata": {},
   "source": [
    "###### how='inner'（默认）\n",
    "* 默认合并相同字段\n",
    "* 若字段无相同值，必须指定how"
   ]
  },
  {
   "cell_type": "code",
   "execution_count": 4,
   "metadata": {},
   "outputs": [
    {
     "data": {
      "text/html": [
       "<div>\n",
       "<style scoped>\n",
       "    .dataframe tbody tr th:only-of-type {\n",
       "        vertical-align: middle;\n",
       "    }\n",
       "\n",
       "    .dataframe tbody tr th {\n",
       "        vertical-align: top;\n",
       "    }\n",
       "\n",
       "    .dataframe thead th {\n",
       "        text-align: right;\n",
       "    }\n",
       "</style>\n",
       "<table border=\"1\" class=\"dataframe\">\n",
       "  <thead>\n",
       "    <tr style=\"text-align: right;\">\n",
       "      <th></th>\n",
       "      <th>name</th>\n",
       "      <th>age</th>\n",
       "    </tr>\n",
       "  </thead>\n",
       "  <tbody>\n",
       "    <tr>\n",
       "      <th>0</th>\n",
       "      <td>zhangsan</td>\n",
       "      <td>18</td>\n",
       "    </tr>\n",
       "    <tr>\n",
       "      <th>1</th>\n",
       "      <td>lisi</td>\n",
       "      <td>19</td>\n",
       "    </tr>\n",
       "    <tr>\n",
       "      <th>2</th>\n",
       "      <td>zhaowu</td>\n",
       "      <td>20</td>\n",
       "    </tr>\n",
       "  </tbody>\n",
       "</table>\n",
       "</div>"
      ],
      "text/plain": [
       "       name  age\n",
       "0  zhangsan   18\n",
       "1      lisi   19\n",
       "2    zhaowu   20"
      ]
     },
     "execution_count": 4,
     "metadata": {},
     "output_type": "execute_result"
    }
   ],
   "source": [
    "# 利用字典构造两个dataframe\n",
    "df_left = pd.DataFrame({'name':['zhangsan','lisi','zhaowu'],'age':[18,19,20]})\n",
    "df_right = pd.DataFrame({'name':['zhangsan','lisi','wangliu'],'grade':[100,90,80]})\n",
    "df_left"
   ]
  },
  {
   "cell_type": "code",
   "execution_count": 5,
   "metadata": {},
   "outputs": [
    {
     "data": {
      "text/html": [
       "<div>\n",
       "<style scoped>\n",
       "    .dataframe tbody tr th:only-of-type {\n",
       "        vertical-align: middle;\n",
       "    }\n",
       "\n",
       "    .dataframe tbody tr th {\n",
       "        vertical-align: top;\n",
       "    }\n",
       "\n",
       "    .dataframe thead th {\n",
       "        text-align: right;\n",
       "    }\n",
       "</style>\n",
       "<table border=\"1\" class=\"dataframe\">\n",
       "  <thead>\n",
       "    <tr style=\"text-align: right;\">\n",
       "      <th></th>\n",
       "      <th>name</th>\n",
       "      <th>grade</th>\n",
       "    </tr>\n",
       "  </thead>\n",
       "  <tbody>\n",
       "    <tr>\n",
       "      <th>0</th>\n",
       "      <td>zhangsan</td>\n",
       "      <td>100</td>\n",
       "    </tr>\n",
       "    <tr>\n",
       "      <th>1</th>\n",
       "      <td>lisi</td>\n",
       "      <td>90</td>\n",
       "    </tr>\n",
       "    <tr>\n",
       "      <th>2</th>\n",
       "      <td>wangliu</td>\n",
       "      <td>80</td>\n",
       "    </tr>\n",
       "  </tbody>\n",
       "</table>\n",
       "</div>"
      ],
      "text/plain": [
       "       name  grade\n",
       "0  zhangsan    100\n",
       "1      lisi     90\n",
       "2   wangliu     80"
      ]
     },
     "execution_count": 5,
     "metadata": {},
     "output_type": "execute_result"
    }
   ],
   "source": [
    "df_right"
   ]
  },
  {
   "cell_type": "code",
   "execution_count": 8,
   "metadata": {},
   "outputs": [
    {
     "data": {
      "text/html": [
       "<div>\n",
       "<style scoped>\n",
       "    .dataframe tbody tr th:only-of-type {\n",
       "        vertical-align: middle;\n",
       "    }\n",
       "\n",
       "    .dataframe tbody tr th {\n",
       "        vertical-align: top;\n",
       "    }\n",
       "\n",
       "    .dataframe thead th {\n",
       "        text-align: right;\n",
       "    }\n",
       "</style>\n",
       "<table border=\"1\" class=\"dataframe\">\n",
       "  <thead>\n",
       "    <tr style=\"text-align: right;\">\n",
       "      <th></th>\n",
       "      <th>name</th>\n",
       "      <th>age</th>\n",
       "      <th>grade</th>\n",
       "    </tr>\n",
       "  </thead>\n",
       "  <tbody>\n",
       "    <tr>\n",
       "      <th>0</th>\n",
       "      <td>zhangsan</td>\n",
       "      <td>18</td>\n",
       "      <td>100</td>\n",
       "    </tr>\n",
       "    <tr>\n",
       "      <th>1</th>\n",
       "      <td>lisi</td>\n",
       "      <td>19</td>\n",
       "      <td>90</td>\n",
       "    </tr>\n",
       "  </tbody>\n",
       "</table>\n",
       "</div>"
      ],
      "text/plain": [
       "       name  age  grade\n",
       "0  zhangsan   18    100\n",
       "1      lisi   19     90"
      ]
     },
     "execution_count": 8,
     "metadata": {},
     "output_type": "execute_result"
    }
   ],
   "source": [
    "df_merge_inner = pd.merge(df_left,df_right,how='inner')\n",
    "df_merge_inner\n",
    "# 两个dataframe都有zhangsan和lisi，这里没有指定on参数，默认用相同的列‘name’进行合并，因此合并之后只显示张三和李四的字段"
   ]
  },
  {
   "attachments": {},
   "cell_type": "markdown",
   "metadata": {},
   "source": [
    "###### how='outer'\n",
    "* 无论字段是否相同，合并所有数值，无相应字段填为NaN"
   ]
  },
  {
   "cell_type": "code",
   "execution_count": 9,
   "metadata": {},
   "outputs": [
    {
     "data": {
      "text/html": [
       "<div>\n",
       "<style scoped>\n",
       "    .dataframe tbody tr th:only-of-type {\n",
       "        vertical-align: middle;\n",
       "    }\n",
       "\n",
       "    .dataframe tbody tr th {\n",
       "        vertical-align: top;\n",
       "    }\n",
       "\n",
       "    .dataframe thead th {\n",
       "        text-align: right;\n",
       "    }\n",
       "</style>\n",
       "<table border=\"1\" class=\"dataframe\">\n",
       "  <thead>\n",
       "    <tr style=\"text-align: right;\">\n",
       "      <th></th>\n",
       "      <th>name</th>\n",
       "      <th>age</th>\n",
       "      <th>grade</th>\n",
       "    </tr>\n",
       "  </thead>\n",
       "  <tbody>\n",
       "    <tr>\n",
       "      <th>0</th>\n",
       "      <td>zhangsan</td>\n",
       "      <td>18.0</td>\n",
       "      <td>100.0</td>\n",
       "    </tr>\n",
       "    <tr>\n",
       "      <th>1</th>\n",
       "      <td>lisi</td>\n",
       "      <td>19.0</td>\n",
       "      <td>90.0</td>\n",
       "    </tr>\n",
       "    <tr>\n",
       "      <th>2</th>\n",
       "      <td>zhaowu</td>\n",
       "      <td>20.0</td>\n",
       "      <td>NaN</td>\n",
       "    </tr>\n",
       "    <tr>\n",
       "      <th>3</th>\n",
       "      <td>wangliu</td>\n",
       "      <td>NaN</td>\n",
       "      <td>80.0</td>\n",
       "    </tr>\n",
       "  </tbody>\n",
       "</table>\n",
       "</div>"
      ],
      "text/plain": [
       "       name   age  grade\n",
       "0  zhangsan  18.0  100.0\n",
       "1      lisi  19.0   90.0\n",
       "2    zhaowu  20.0    NaN\n",
       "3   wangliu   NaN   80.0"
      ]
     },
     "execution_count": 9,
     "metadata": {},
     "output_type": "execute_result"
    }
   ],
   "source": [
    "df_merge_outer = pd.merge(df_left,df_right,on='name',how='outer')\n",
    "df_merge_outer\n",
    "# 所有姓名都保留，zhaowu没有grade列，填为nan；wangliu没有age列，填为nan"
   ]
  },
  {
   "attachments": {},
   "cell_type": "markdown",
   "metadata": {},
   "source": [
    "###### how = 'right'\n",
    "保留right表中合并列的所有字段，不管left表；没有的字段为nan"
   ]
  },
  {
   "cell_type": "code",
   "execution_count": 10,
   "metadata": {},
   "outputs": [
    {
     "data": {
      "text/html": [
       "<div>\n",
       "<style scoped>\n",
       "    .dataframe tbody tr th:only-of-type {\n",
       "        vertical-align: middle;\n",
       "    }\n",
       "\n",
       "    .dataframe tbody tr th {\n",
       "        vertical-align: top;\n",
       "    }\n",
       "\n",
       "    .dataframe thead th {\n",
       "        text-align: right;\n",
       "    }\n",
       "</style>\n",
       "<table border=\"1\" class=\"dataframe\">\n",
       "  <thead>\n",
       "    <tr style=\"text-align: right;\">\n",
       "      <th></th>\n",
       "      <th>name</th>\n",
       "      <th>age</th>\n",
       "      <th>grade</th>\n",
       "    </tr>\n",
       "  </thead>\n",
       "  <tbody>\n",
       "    <tr>\n",
       "      <th>0</th>\n",
       "      <td>zhangsan</td>\n",
       "      <td>18.0</td>\n",
       "      <td>100</td>\n",
       "    </tr>\n",
       "    <tr>\n",
       "      <th>1</th>\n",
       "      <td>lisi</td>\n",
       "      <td>19.0</td>\n",
       "      <td>90</td>\n",
       "    </tr>\n",
       "    <tr>\n",
       "      <th>2</th>\n",
       "      <td>wangliu</td>\n",
       "      <td>NaN</td>\n",
       "      <td>80</td>\n",
       "    </tr>\n",
       "  </tbody>\n",
       "</table>\n",
       "</div>"
      ],
      "text/plain": [
       "       name   age  grade\n",
       "0  zhangsan  18.0    100\n",
       "1      lisi  19.0     90\n",
       "2   wangliu   NaN     80"
      ]
     },
     "execution_count": 10,
     "metadata": {},
     "output_type": "execute_result"
    }
   ],
   "source": [
    "df_merge_right = pd.merge(df_left,df_right,on='name',how='right')\n",
    "df_merge_right\n",
    "# wangliu仅存在于right表，zhaowu仅存在于left表，zhaowu被剔除；原表中wangliu无age字段，所以为nan\n",
    "# how='left'类似"
   ]
  },
  {
   "attachments": {},
   "cell_type": "markdown",
   "metadata": {},
   "source": [
    "##### 指定列合并 on、left_on、right_on参数\n",
    "* on参数默认为两表相同的字段;\n"
   ]
  },
  {
   "attachments": {},
   "cell_type": "markdown",
   "metadata": {},
   "source": [
    "###### lef_on、right_on"
   ]
  },
  {
   "cell_type": "code",
   "execution_count": 19,
   "metadata": {},
   "outputs": [],
   "source": [
    "df_left1 = pd.DataFrame({'name':['zhangsan','lisi','zhaowu'],'age':[18,19,20]})\n",
    "df_right1 = pd.DataFrame({'姓名':['zhangsan','lisi','zhaowu'],'grade':[100,90,80]})"
   ]
  },
  {
   "cell_type": "code",
   "execution_count": 20,
   "metadata": {},
   "outputs": [
    {
     "data": {
      "text/html": [
       "<div>\n",
       "<style scoped>\n",
       "    .dataframe tbody tr th:only-of-type {\n",
       "        vertical-align: middle;\n",
       "    }\n",
       "\n",
       "    .dataframe tbody tr th {\n",
       "        vertical-align: top;\n",
       "    }\n",
       "\n",
       "    .dataframe thead th {\n",
       "        text-align: right;\n",
       "    }\n",
       "</style>\n",
       "<table border=\"1\" class=\"dataframe\">\n",
       "  <thead>\n",
       "    <tr style=\"text-align: right;\">\n",
       "      <th></th>\n",
       "      <th>name</th>\n",
       "      <th>age</th>\n",
       "      <th>姓名</th>\n",
       "      <th>grade</th>\n",
       "    </tr>\n",
       "  </thead>\n",
       "  <tbody>\n",
       "    <tr>\n",
       "      <th>0</th>\n",
       "      <td>zhangsan</td>\n",
       "      <td>18</td>\n",
       "      <td>zhangsan</td>\n",
       "      <td>100</td>\n",
       "    </tr>\n",
       "    <tr>\n",
       "      <th>1</th>\n",
       "      <td>lisi</td>\n",
       "      <td>19</td>\n",
       "      <td>lisi</td>\n",
       "      <td>90</td>\n",
       "    </tr>\n",
       "    <tr>\n",
       "      <th>2</th>\n",
       "      <td>zhaowu</td>\n",
       "      <td>20</td>\n",
       "      <td>zhaowu</td>\n",
       "      <td>80</td>\n",
       "    </tr>\n",
       "  </tbody>\n",
       "</table>\n",
       "</div>"
      ],
      "text/plain": [
       "       name  age        姓名  grade\n",
       "0  zhangsan   18  zhangsan    100\n",
       "1      lisi   19      lisi     90\n",
       "2    zhaowu   20    zhaowu     80"
      ]
     },
     "execution_count": 20,
     "metadata": {},
     "output_type": "execute_result"
    }
   ],
   "source": [
    "pd.merge(df_left1,df_right1,left_on='name',right_on='姓名')\n",
    "# left1的参考键为name，left2的参考键为姓名"
   ]
  },
  {
   "attachments": {},
   "cell_type": "markdown",
   "metadata": {},
   "source": [
    "##### left_index和right_index\n",
    "* left_on,right_on,left_index,right_index直接可以相互组合\n",
    "* left_on+right_on\n",
    "* left_on+right_index\n",
    "* left_index+right_on\n",
    "* left_index+right_index"
   ]
  },
  {
   "cell_type": "code",
   "execution_count": 35,
   "metadata": {},
   "outputs": [],
   "source": [
    "df_left2 = pd.DataFrame({'age':[20,21,22]},index=['zhangsan','lisi','wangwu'])\n",
    "df_right2 = pd.DataFrame({'name':['zhangsan','lisi','wangwu'],'age':[100,90,80]})"
   ]
  },
  {
   "cell_type": "code",
   "execution_count": 36,
   "metadata": {},
   "outputs": [
    {
     "data": {
      "text/html": [
       "<div>\n",
       "<style scoped>\n",
       "    .dataframe tbody tr th:only-of-type {\n",
       "        vertical-align: middle;\n",
       "    }\n",
       "\n",
       "    .dataframe tbody tr th {\n",
       "        vertical-align: top;\n",
       "    }\n",
       "\n",
       "    .dataframe thead th {\n",
       "        text-align: right;\n",
       "    }\n",
       "</style>\n",
       "<table border=\"1\" class=\"dataframe\">\n",
       "  <thead>\n",
       "    <tr style=\"text-align: right;\">\n",
       "      <th></th>\n",
       "      <th>age_x</th>\n",
       "      <th>name</th>\n",
       "      <th>age_y</th>\n",
       "    </tr>\n",
       "  </thead>\n",
       "  <tbody>\n",
       "    <tr>\n",
       "      <th>0</th>\n",
       "      <td>20</td>\n",
       "      <td>zhangsan</td>\n",
       "      <td>100</td>\n",
       "    </tr>\n",
       "    <tr>\n",
       "      <th>1</th>\n",
       "      <td>21</td>\n",
       "      <td>lisi</td>\n",
       "      <td>90</td>\n",
       "    </tr>\n",
       "    <tr>\n",
       "      <th>2</th>\n",
       "      <td>22</td>\n",
       "      <td>wangwu</td>\n",
       "      <td>80</td>\n",
       "    </tr>\n",
       "  </tbody>\n",
       "</table>\n",
       "</div>"
      ],
      "text/plain": [
       "   age_x      name  age_y\n",
       "0     20  zhangsan    100\n",
       "1     21      lisi     90\n",
       "2     22    wangwu     80"
      ]
     },
     "execution_count": 36,
     "metadata": {},
     "output_type": "execute_result"
    }
   ],
   "source": [
    "# df_left2以index为键，df_ringt2以name为键\n",
    "pd.merge(df_left2,df_right2,left_index=True,right_on='name')"
   ]
  },
  {
   "attachments": {},
   "cell_type": "markdown",
   "metadata": {},
   "source": [
    "##### sort\n",
    "根据连接键对合并后的数据进行排序，默认为True\n",
    "* 使用sort 必须指定on才可以排序"
   ]
  },
  {
   "cell_type": "code",
   "execution_count": 81,
   "metadata": {},
   "outputs": [],
   "source": [
    "df_left3 = pd.DataFrame({'name':['kyb','gzj','ljt'],'grade':[89,91,87]})\n",
    "df_right3 = pd.DataFrame({'name':['kyb1','gzj1','ljt1'],'grade':[12,19,9]})"
   ]
  },
  {
   "cell_type": "code",
   "execution_count": 84,
   "metadata": {},
   "outputs": [
    {
     "data": {
      "text/html": [
       "<div>\n",
       "<style scoped>\n",
       "    .dataframe tbody tr th:only-of-type {\n",
       "        vertical-align: middle;\n",
       "    }\n",
       "\n",
       "    .dataframe tbody tr th {\n",
       "        vertical-align: top;\n",
       "    }\n",
       "\n",
       "    .dataframe thead th {\n",
       "        text-align: right;\n",
       "    }\n",
       "</style>\n",
       "<table border=\"1\" class=\"dataframe\">\n",
       "  <thead>\n",
       "    <tr style=\"text-align: right;\">\n",
       "      <th></th>\n",
       "      <th>name</th>\n",
       "      <th>grade</th>\n",
       "    </tr>\n",
       "  </thead>\n",
       "  <tbody>\n",
       "    <tr>\n",
       "      <th>0</th>\n",
       "      <td>ljt1</td>\n",
       "      <td>9</td>\n",
       "    </tr>\n",
       "    <tr>\n",
       "      <th>1</th>\n",
       "      <td>kyb1</td>\n",
       "      <td>12</td>\n",
       "    </tr>\n",
       "    <tr>\n",
       "      <th>2</th>\n",
       "      <td>gzj1</td>\n",
       "      <td>19</td>\n",
       "    </tr>\n",
       "    <tr>\n",
       "      <th>3</th>\n",
       "      <td>ljt</td>\n",
       "      <td>87</td>\n",
       "    </tr>\n",
       "    <tr>\n",
       "      <th>4</th>\n",
       "      <td>kyb</td>\n",
       "      <td>89</td>\n",
       "    </tr>\n",
       "    <tr>\n",
       "      <th>5</th>\n",
       "      <td>gzj</td>\n",
       "      <td>91</td>\n",
       "    </tr>\n",
       "  </tbody>\n",
       "</table>\n",
       "</div>"
      ],
      "text/plain": [
       "   name  grade\n",
       "0  ljt1      9\n",
       "1  kyb1     12\n",
       "2  gzj1     19\n",
       "3   ljt     87\n",
       "4   kyb     89\n",
       "5   gzj     91"
      ]
     },
     "execution_count": 84,
     "metadata": {},
     "output_type": "execute_result"
    }
   ],
   "source": [
    "pd.merge(df_left3,df_right3,how='outer',on=['grade','name'],sort='False')\n",
    "# 指定on 排序"
   ]
  },
  {
   "cell_type": "code",
   "execution_count": 85,
   "metadata": {},
   "outputs": [
    {
     "data": {
      "text/html": [
       "<div>\n",
       "<style scoped>\n",
       "    .dataframe tbody tr th:only-of-type {\n",
       "        vertical-align: middle;\n",
       "    }\n",
       "\n",
       "    .dataframe tbody tr th {\n",
       "        vertical-align: top;\n",
       "    }\n",
       "\n",
       "    .dataframe thead th {\n",
       "        text-align: right;\n",
       "    }\n",
       "</style>\n",
       "<table border=\"1\" class=\"dataframe\">\n",
       "  <thead>\n",
       "    <tr style=\"text-align: right;\">\n",
       "      <th></th>\n",
       "      <th>name</th>\n",
       "      <th>grade</th>\n",
       "    </tr>\n",
       "  </thead>\n",
       "  <tbody>\n",
       "    <tr>\n",
       "      <th>0</th>\n",
       "      <td>gzj</td>\n",
       "      <td>91</td>\n",
       "    </tr>\n",
       "    <tr>\n",
       "      <th>1</th>\n",
       "      <td>gzj1</td>\n",
       "      <td>19</td>\n",
       "    </tr>\n",
       "    <tr>\n",
       "      <th>2</th>\n",
       "      <td>kyb</td>\n",
       "      <td>89</td>\n",
       "    </tr>\n",
       "    <tr>\n",
       "      <th>3</th>\n",
       "      <td>kyb1</td>\n",
       "      <td>12</td>\n",
       "    </tr>\n",
       "    <tr>\n",
       "      <th>4</th>\n",
       "      <td>ljt</td>\n",
       "      <td>87</td>\n",
       "    </tr>\n",
       "    <tr>\n",
       "      <th>5</th>\n",
       "      <td>ljt1</td>\n",
       "      <td>9</td>\n",
       "    </tr>\n",
       "  </tbody>\n",
       "</table>\n",
       "</div>"
      ],
      "text/plain": [
       "   name  grade\n",
       "0   gzj     91\n",
       "1  gzj1     19\n",
       "2   kyb     89\n",
       "3  kyb1     12\n",
       "4   ljt     87\n",
       "5  ljt1      9"
      ]
     },
     "execution_count": 85,
     "metadata": {},
     "output_type": "execute_result"
    }
   ],
   "source": [
    "pd.merge(df_left3,df_right3,how='outer',sort='False')\n",
    "# 没指定on 不排序"
   ]
  },
  {
   "attachments": {},
   "cell_type": "markdown",
   "metadata": {},
   "source": [
    "##### suffixes\n",
    "* 字符串值元组。用于追加到重叠列名后的后缀，默认为('_x','_y')"
   ]
  },
  {
   "cell_type": "code",
   "execution_count": 86,
   "metadata": {},
   "outputs": [],
   "source": [
    "left = pd.DataFrame({'name':['张三','李四','赵五'],'c':[18,20,19]})\n",
    "right= pd.DataFrame({'姓名':['张三','李四','王六'],'c':[80,70,90]})"
   ]
  },
  {
   "cell_type": "code",
   "execution_count": 87,
   "metadata": {},
   "outputs": [
    {
     "data": {
      "text/html": [
       "<div>\n",
       "<style scoped>\n",
       "    .dataframe tbody tr th:only-of-type {\n",
       "        vertical-align: middle;\n",
       "    }\n",
       "\n",
       "    .dataframe tbody tr th {\n",
       "        vertical-align: top;\n",
       "    }\n",
       "\n",
       "    .dataframe thead th {\n",
       "        text-align: right;\n",
       "    }\n",
       "</style>\n",
       "<table border=\"1\" class=\"dataframe\">\n",
       "  <thead>\n",
       "    <tr style=\"text-align: right;\">\n",
       "      <th></th>\n",
       "      <th>name</th>\n",
       "      <th>c_A</th>\n",
       "      <th>姓名</th>\n",
       "      <th>c_B</th>\n",
       "    </tr>\n",
       "  </thead>\n",
       "  <tbody>\n",
       "    <tr>\n",
       "      <th>0</th>\n",
       "      <td>张三</td>\n",
       "      <td>18</td>\n",
       "      <td>张三</td>\n",
       "      <td>80</td>\n",
       "    </tr>\n",
       "    <tr>\n",
       "      <th>1</th>\n",
       "      <td>李四</td>\n",
       "      <td>20</td>\n",
       "      <td>李四</td>\n",
       "      <td>70</td>\n",
       "    </tr>\n",
       "  </tbody>\n",
       "</table>\n",
       "</div>"
      ],
      "text/plain": [
       "  name  c_A  姓名  c_B\n",
       "0   张三   18  张三   80\n",
       "1   李四   20  李四   70"
      ]
     },
     "execution_count": 87,
     "metadata": {},
     "output_type": "execute_result"
    }
   ],
   "source": [
    "pd.merge(left,right,left_on='name',right_on='姓名',suffixes=(\"_A\",\"_B\"))"
   ]
  },
  {
   "attachments": {},
   "cell_type": "markdown",
   "metadata": {},
   "source": [
    "### concat\n"
   ]
  },
  {
   "attachments": {},
   "cell_type": "markdown",
   "metadata": {},
   "source": [
    "#### 基本用法和参数\n",
    "pd.concat(objs, axis=0, join='outer', join_axes=None, ignore_index=False,\n",
    "       keys=None, levels=None, names=None, verify_integrity=False)\n",
    "       \n",
    "|参数|含义说明|\n",
    "|:------|:--------|\n",
    "|objs|series，dataframe或者是panel构成的序列lsit|\n",
    "|axis|需要合并链接的轴，0是行，1是列，默认是1|\n",
    "|join|连接的方式 inner，或者outer|\n",
    "|ignore_index|是否重置索引，默认为False|\n",
    "|keys|用来区分合并前的数据，默认为None|"
   ]
  },
  {
   "attachments": {},
   "cell_type": "markdown",
   "metadata": {},
   "source": [
    "#### 默认纵向连接"
   ]
  },
  {
   "cell_type": "code",
   "execution_count": 6,
   "metadata": {},
   "outputs": [
    {
     "data": {
      "text/html": [
       "<div>\n",
       "<style scoped>\n",
       "    .dataframe tbody tr th:only-of-type {\n",
       "        vertical-align: middle;\n",
       "    }\n",
       "\n",
       "    .dataframe tbody tr th {\n",
       "        vertical-align: top;\n",
       "    }\n",
       "\n",
       "    .dataframe thead th {\n",
       "        text-align: right;\n",
       "    }\n",
       "</style>\n",
       "<table border=\"1\" class=\"dataframe\">\n",
       "  <thead>\n",
       "    <tr style=\"text-align: right;\">\n",
       "      <th></th>\n",
       "      <th>A</th>\n",
       "      <th>B</th>\n",
       "      <th>C</th>\n",
       "      <th>D</th>\n",
       "    </tr>\n",
       "  </thead>\n",
       "  <tbody>\n",
       "    <tr>\n",
       "      <th>0</th>\n",
       "      <td>A0</td>\n",
       "      <td>B0</td>\n",
       "      <td>C0</td>\n",
       "      <td>D0</td>\n",
       "    </tr>\n",
       "    <tr>\n",
       "      <th>1</th>\n",
       "      <td>A1</td>\n",
       "      <td>B1</td>\n",
       "      <td>C1</td>\n",
       "      <td>D1</td>\n",
       "    </tr>\n",
       "    <tr>\n",
       "      <th>2</th>\n",
       "      <td>A2</td>\n",
       "      <td>B2</td>\n",
       "      <td>C2</td>\n",
       "      <td>D2</td>\n",
       "    </tr>\n",
       "    <tr>\n",
       "      <th>3</th>\n",
       "      <td>A3</td>\n",
       "      <td>B3</td>\n",
       "      <td>C3</td>\n",
       "      <td>D3</td>\n",
       "    </tr>\n",
       "  </tbody>\n",
       "</table>\n",
       "</div>"
      ],
      "text/plain": [
       "    A   B   C   D\n",
       "0  A0  B0  C0  D0\n",
       "1  A1  B1  C1  D1\n",
       "2  A2  B2  C2  D2\n",
       "3  A3  B3  C3  D3"
      ]
     },
     "execution_count": 6,
     "metadata": {},
     "output_type": "execute_result"
    }
   ],
   "source": [
    "# 初始化df1\n",
    "df1 = pd.DataFrame({'A': ['A0', 'A1', 'A2', 'A3'],\n",
    "                        'B': ['B0', 'B1', 'B2', 'B3'],\n",
    "                        'C': ['C0', 'C1', 'C2', 'C3'],\n",
    "                        'D': ['D0', 'D1', 'D2', 'D3']})\n",
    "df1"
   ]
  },
  {
   "cell_type": "code",
   "execution_count": 7,
   "metadata": {},
   "outputs": [
    {
     "data": {
      "text/html": [
       "<div>\n",
       "<style scoped>\n",
       "    .dataframe tbody tr th:only-of-type {\n",
       "        vertical-align: middle;\n",
       "    }\n",
       "\n",
       "    .dataframe tbody tr th {\n",
       "        vertical-align: top;\n",
       "    }\n",
       "\n",
       "    .dataframe thead th {\n",
       "        text-align: right;\n",
       "    }\n",
       "</style>\n",
       "<table border=\"1\" class=\"dataframe\">\n",
       "  <thead>\n",
       "    <tr style=\"text-align: right;\">\n",
       "      <th></th>\n",
       "      <th>A</th>\n",
       "      <th>B</th>\n",
       "      <th>C</th>\n",
       "      <th>D</th>\n",
       "    </tr>\n",
       "  </thead>\n",
       "  <tbody>\n",
       "    <tr>\n",
       "      <th>0</th>\n",
       "      <td>A4</td>\n",
       "      <td>B4</td>\n",
       "      <td>C4</td>\n",
       "      <td>D4</td>\n",
       "    </tr>\n",
       "    <tr>\n",
       "      <th>1</th>\n",
       "      <td>A5</td>\n",
       "      <td>B5</td>\n",
       "      <td>C5</td>\n",
       "      <td>D5</td>\n",
       "    </tr>\n",
       "    <tr>\n",
       "      <th>2</th>\n",
       "      <td>A6</td>\n",
       "      <td>B6</td>\n",
       "      <td>C6</td>\n",
       "      <td>D6</td>\n",
       "    </tr>\n",
       "    <tr>\n",
       "      <th>3</th>\n",
       "      <td>A7</td>\n",
       "      <td>B7</td>\n",
       "      <td>C7</td>\n",
       "      <td>D7</td>\n",
       "    </tr>\n",
       "  </tbody>\n",
       "</table>\n",
       "</div>"
      ],
      "text/plain": [
       "    A   B   C   D\n",
       "0  A4  B4  C4  D4\n",
       "1  A5  B5  C5  D5\n",
       "2  A6  B6  C6  D6\n",
       "3  A7  B7  C7  D7"
      ]
     },
     "execution_count": 7,
     "metadata": {},
     "output_type": "execute_result"
    }
   ],
   "source": [
    "# 初始化df2\n",
    "df2 = pd.DataFrame({'A': ['A4', 'A5', 'A6', 'A7'],\n",
    "                        'B': ['B4', 'B5', 'B6', 'B7'],\n",
    "                        'C': ['C4', 'C5', 'C6', 'C7'],\n",
    "                        'D': ['D4', 'D5', 'D6', 'D7']})\n",
    "df2"
   ]
  },
  {
   "cell_type": "code",
   "execution_count": 11,
   "metadata": {},
   "outputs": [
    {
     "data": {
      "text/html": [
       "<div>\n",
       "<style scoped>\n",
       "    .dataframe tbody tr th:only-of-type {\n",
       "        vertical-align: middle;\n",
       "    }\n",
       "\n",
       "    .dataframe tbody tr th {\n",
       "        vertical-align: top;\n",
       "    }\n",
       "\n",
       "    .dataframe thead th {\n",
       "        text-align: right;\n",
       "    }\n",
       "</style>\n",
       "<table border=\"1\" class=\"dataframe\">\n",
       "  <thead>\n",
       "    <tr style=\"text-align: right;\">\n",
       "      <th></th>\n",
       "      <th>A</th>\n",
       "      <th>B</th>\n",
       "      <th>C</th>\n",
       "      <th>D</th>\n",
       "    </tr>\n",
       "  </thead>\n",
       "  <tbody>\n",
       "    <tr>\n",
       "      <th>0</th>\n",
       "      <td>A0</td>\n",
       "      <td>B0</td>\n",
       "      <td>C0</td>\n",
       "      <td>D0</td>\n",
       "    </tr>\n",
       "    <tr>\n",
       "      <th>1</th>\n",
       "      <td>A1</td>\n",
       "      <td>B1</td>\n",
       "      <td>C1</td>\n",
       "      <td>D1</td>\n",
       "    </tr>\n",
       "    <tr>\n",
       "      <th>2</th>\n",
       "      <td>A2</td>\n",
       "      <td>B2</td>\n",
       "      <td>C2</td>\n",
       "      <td>D2</td>\n",
       "    </tr>\n",
       "    <tr>\n",
       "      <th>3</th>\n",
       "      <td>A3</td>\n",
       "      <td>B3</td>\n",
       "      <td>C3</td>\n",
       "      <td>D3</td>\n",
       "    </tr>\n",
       "    <tr>\n",
       "      <th>4</th>\n",
       "      <td>A4</td>\n",
       "      <td>B4</td>\n",
       "      <td>C4</td>\n",
       "      <td>D4</td>\n",
       "    </tr>\n",
       "    <tr>\n",
       "      <th>5</th>\n",
       "      <td>A5</td>\n",
       "      <td>B5</td>\n",
       "      <td>C5</td>\n",
       "      <td>D5</td>\n",
       "    </tr>\n",
       "    <tr>\n",
       "      <th>6</th>\n",
       "      <td>A6</td>\n",
       "      <td>B6</td>\n",
       "      <td>C6</td>\n",
       "      <td>D6</td>\n",
       "    </tr>\n",
       "    <tr>\n",
       "      <th>7</th>\n",
       "      <td>A7</td>\n",
       "      <td>B7</td>\n",
       "      <td>C7</td>\n",
       "      <td>D7</td>\n",
       "    </tr>\n",
       "  </tbody>\n",
       "</table>\n",
       "</div>"
      ],
      "text/plain": [
       "    A   B   C   D\n",
       "0  A0  B0  C0  D0\n",
       "1  A1  B1  C1  D1\n",
       "2  A2  B2  C2  D2\n",
       "3  A3  B3  C3  D3\n",
       "4  A4  B4  C4  D4\n",
       "5  A5  B5  C5  D5\n",
       "6  A6  B6  C6  D6\n",
       "7  A7  B7  C7  D7"
      ]
     },
     "execution_count": 11,
     "metadata": {},
     "output_type": "execute_result"
    }
   ],
   "source": [
    "# 纵向连接df1和df2\n",
    "df_contact = pd.concat([df1,df2],ignore_index=True)  # 参数是一个列表\n",
    "df_contact"
   ]
  },
  {
   "attachments": {},
   "cell_type": "markdown",
   "metadata": {},
   "source": [
    "#### concat连接3个及以上的dataframe"
   ]
  },
  {
   "cell_type": "code",
   "execution_count": 12,
   "metadata": {},
   "outputs": [
    {
     "data": {
      "text/html": [
       "<div>\n",
       "<style scoped>\n",
       "    .dataframe tbody tr th:only-of-type {\n",
       "        vertical-align: middle;\n",
       "    }\n",
       "\n",
       "    .dataframe tbody tr th {\n",
       "        vertical-align: top;\n",
       "    }\n",
       "\n",
       "    .dataframe thead th {\n",
       "        text-align: right;\n",
       "    }\n",
       "</style>\n",
       "<table border=\"1\" class=\"dataframe\">\n",
       "  <thead>\n",
       "    <tr style=\"text-align: right;\">\n",
       "      <th></th>\n",
       "      <th>A</th>\n",
       "      <th>B</th>\n",
       "      <th>C</th>\n",
       "      <th>D</th>\n",
       "    </tr>\n",
       "  </thead>\n",
       "  <tbody>\n",
       "    <tr>\n",
       "      <th>0</th>\n",
       "      <td>A8</td>\n",
       "      <td>B8</td>\n",
       "      <td>C8</td>\n",
       "      <td>D8</td>\n",
       "    </tr>\n",
       "    <tr>\n",
       "      <th>1</th>\n",
       "      <td>A9</td>\n",
       "      <td>B9</td>\n",
       "      <td>C9</td>\n",
       "      <td>D9</td>\n",
       "    </tr>\n",
       "    <tr>\n",
       "      <th>2</th>\n",
       "      <td>A10</td>\n",
       "      <td>B10</td>\n",
       "      <td>C10</td>\n",
       "      <td>D10</td>\n",
       "    </tr>\n",
       "    <tr>\n",
       "      <th>3</th>\n",
       "      <td>A11</td>\n",
       "      <td>B11</td>\n",
       "      <td>C11</td>\n",
       "      <td>D11</td>\n",
       "    </tr>\n",
       "  </tbody>\n",
       "</table>\n",
       "</div>"
      ],
      "text/plain": [
       "     A    B    C    D\n",
       "0   A8   B8   C8   D8\n",
       "1   A9   B9   C9   D9\n",
       "2  A10  B10  C10  D10\n",
       "3  A11  B11  C11  D11"
      ]
     },
     "execution_count": 12,
     "metadata": {},
     "output_type": "execute_result"
    }
   ],
   "source": [
    "df3 = pd.DataFrame({'A': ['A8', 'A9', 'A10', 'A11'],\n",
    "                     'B': ['B8', 'B9', 'B10', 'B11'],\n",
    "                      'C': ['C8', 'C9', 'C10', 'C11'],\n",
    "                      'D': ['D8', 'D9', 'D10', 'D11']})\n",
    "df3"
   ]
  },
  {
   "attachments": {},
   "cell_type": "markdown",
   "metadata": {},
   "source": [
    "#### 设置特定的键(keys)\n",
    "有时候我们需要区分合并之后的DataFrame里， 哪些数据是来自df1的，哪些数据是来自df2的。  \n",
    "这个时候我们可以给它们设置一个特定的键（key）， 相当于给它们起个名字， 这样我们就可以把它们区分开来了。"
   ]
  },
  {
   "cell_type": "code",
   "execution_count": 25,
   "metadata": {},
   "outputs": [
    {
     "data": {
      "text/html": [
       "<div>\n",
       "<style scoped>\n",
       "    .dataframe tbody tr th:only-of-type {\n",
       "        vertical-align: middle;\n",
       "    }\n",
       "\n",
       "    .dataframe tbody tr th {\n",
       "        vertical-align: top;\n",
       "    }\n",
       "\n",
       "    .dataframe thead th {\n",
       "        text-align: right;\n",
       "    }\n",
       "</style>\n",
       "<table border=\"1\" class=\"dataframe\">\n",
       "  <thead>\n",
       "    <tr style=\"text-align: right;\">\n",
       "      <th></th>\n",
       "      <th></th>\n",
       "      <th>A</th>\n",
       "      <th>B</th>\n",
       "      <th>C</th>\n",
       "      <th>D</th>\n",
       "    </tr>\n",
       "  </thead>\n",
       "  <tbody>\n",
       "    <tr>\n",
       "      <th rowspan=\"4\" valign=\"top\">df1</th>\n",
       "      <th>0</th>\n",
       "      <td>A0</td>\n",
       "      <td>B0</td>\n",
       "      <td>C0</td>\n",
       "      <td>D0</td>\n",
       "    </tr>\n",
       "    <tr>\n",
       "      <th>1</th>\n",
       "      <td>A1</td>\n",
       "      <td>B1</td>\n",
       "      <td>C1</td>\n",
       "      <td>D1</td>\n",
       "    </tr>\n",
       "    <tr>\n",
       "      <th>2</th>\n",
       "      <td>A2</td>\n",
       "      <td>B2</td>\n",
       "      <td>C2</td>\n",
       "      <td>D2</td>\n",
       "    </tr>\n",
       "    <tr>\n",
       "      <th>3</th>\n",
       "      <td>A3</td>\n",
       "      <td>B3</td>\n",
       "      <td>C3</td>\n",
       "      <td>D3</td>\n",
       "    </tr>\n",
       "    <tr>\n",
       "      <th rowspan=\"4\" valign=\"top\">df2</th>\n",
       "      <th>0</th>\n",
       "      <td>A4</td>\n",
       "      <td>B4</td>\n",
       "      <td>C4</td>\n",
       "      <td>D4</td>\n",
       "    </tr>\n",
       "    <tr>\n",
       "      <th>1</th>\n",
       "      <td>A5</td>\n",
       "      <td>B5</td>\n",
       "      <td>C5</td>\n",
       "      <td>D5</td>\n",
       "    </tr>\n",
       "    <tr>\n",
       "      <th>2</th>\n",
       "      <td>A6</td>\n",
       "      <td>B6</td>\n",
       "      <td>C6</td>\n",
       "      <td>D6</td>\n",
       "    </tr>\n",
       "    <tr>\n",
       "      <th>3</th>\n",
       "      <td>A7</td>\n",
       "      <td>B7</td>\n",
       "      <td>C7</td>\n",
       "      <td>D7</td>\n",
       "    </tr>\n",
       "  </tbody>\n",
       "</table>\n",
       "</div>"
      ],
      "text/plain": [
       "        A   B   C   D\n",
       "df1 0  A0  B0  C0  D0\n",
       "    1  A1  B1  C1  D1\n",
       "    2  A2  B2  C2  D2\n",
       "    3  A3  B3  C3  D3\n",
       "df2 0  A4  B4  C4  D4\n",
       "    1  A5  B5  C5  D5\n",
       "    2  A6  B6  C6  D6\n",
       "    3  A7  B7  C7  D7"
      ]
     },
     "execution_count": 25,
     "metadata": {},
     "output_type": "execute_result"
    }
   ],
   "source": [
    "# 连接df1，df2，df3\n",
    "df_concat1 = pd.concat([df1,df2,df3],keys=['df1','df2'])\n",
    "df_concat1"
   ]
  },
  {
   "cell_type": "code",
   "execution_count": 26,
   "metadata": {},
   "outputs": [
    {
     "data": {
      "text/html": [
       "<div>\n",
       "<style scoped>\n",
       "    .dataframe tbody tr th:only-of-type {\n",
       "        vertical-align: middle;\n",
       "    }\n",
       "\n",
       "    .dataframe tbody tr th {\n",
       "        vertical-align: top;\n",
       "    }\n",
       "\n",
       "    .dataframe thead th {\n",
       "        text-align: right;\n",
       "    }\n",
       "</style>\n",
       "<table border=\"1\" class=\"dataframe\">\n",
       "  <thead>\n",
       "    <tr style=\"text-align: right;\">\n",
       "      <th></th>\n",
       "      <th>A</th>\n",
       "      <th>B</th>\n",
       "      <th>C</th>\n",
       "      <th>D</th>\n",
       "    </tr>\n",
       "  </thead>\n",
       "  <tbody>\n",
       "    <tr>\n",
       "      <th>0</th>\n",
       "      <td>A4</td>\n",
       "      <td>B4</td>\n",
       "      <td>C4</td>\n",
       "      <td>D4</td>\n",
       "    </tr>\n",
       "    <tr>\n",
       "      <th>1</th>\n",
       "      <td>A5</td>\n",
       "      <td>B5</td>\n",
       "      <td>C5</td>\n",
       "      <td>D5</td>\n",
       "    </tr>\n",
       "    <tr>\n",
       "      <th>2</th>\n",
       "      <td>A6</td>\n",
       "      <td>B6</td>\n",
       "      <td>C6</td>\n",
       "      <td>D6</td>\n",
       "    </tr>\n",
       "    <tr>\n",
       "      <th>3</th>\n",
       "      <td>A7</td>\n",
       "      <td>B7</td>\n",
       "      <td>C7</td>\n",
       "      <td>D7</td>\n",
       "    </tr>\n",
       "  </tbody>\n",
       "</table>\n",
       "</div>"
      ],
      "text/plain": [
       "    A   B   C   D\n",
       "0  A4  B4  C4  D4\n",
       "1  A5  B5  C5  D5\n",
       "2  A6  B6  C6  D6\n",
       "3  A7  B7  C7  D7"
      ]
     },
     "execution_count": 26,
     "metadata": {},
     "output_type": "execute_result"
    }
   ],
   "source": [
    "# 仍然可以通过loc读取任意一个子dataframe\n",
    "df_concat1.loc['df2']"
   ]
  },
  {
   "attachments": {},
   "cell_type": "markdown",
   "metadata": {},
   "source": [
    "## 数据变换"
   ]
  },
  {
   "attachments": {},
   "cell_type": "markdown",
   "metadata": {},
   "source": [
    "### replace\n",
    "若需要将数据按照一定的映射关系进行替换，使用**replace()**。多个值的替换可以用**列表**，少数的值可以用包含映射关系的**字典**。"
   ]
  },
  {
   "cell_type": "code",
   "execution_count": 9,
   "metadata": {},
   "outputs": [
    {
     "data": {
      "text/html": [
       "<div>\n",
       "<style scoped>\n",
       "    .dataframe tbody tr th:only-of-type {\n",
       "        vertical-align: middle;\n",
       "    }\n",
       "\n",
       "    .dataframe tbody tr th {\n",
       "        vertical-align: top;\n",
       "    }\n",
       "\n",
       "    .dataframe thead th {\n",
       "        text-align: right;\n",
       "    }\n",
       "</style>\n",
       "<table border=\"1\" class=\"dataframe\">\n",
       "  <thead>\n",
       "    <tr style=\"text-align: right;\">\n",
       "      <th></th>\n",
       "      <th>A</th>\n",
       "      <th>B</th>\n",
       "      <th>C</th>\n",
       "    </tr>\n",
       "  </thead>\n",
       "  <tbody>\n",
       "    <tr>\n",
       "      <th>0</th>\n",
       "      <td>0</td>\n",
       "      <td>5</td>\n",
       "      <td>a</td>\n",
       "    </tr>\n",
       "    <tr>\n",
       "      <th>1</th>\n",
       "      <td>1</td>\n",
       "      <td>6</td>\n",
       "      <td>b</td>\n",
       "    </tr>\n",
       "    <tr>\n",
       "      <th>2</th>\n",
       "      <td>2</td>\n",
       "      <td>7</td>\n",
       "      <td>c</td>\n",
       "    </tr>\n",
       "    <tr>\n",
       "      <th>3</th>\n",
       "      <td>3</td>\n",
       "      <td>8</td>\n",
       "      <td>d</td>\n",
       "    </tr>\n",
       "    <tr>\n",
       "      <th>4</th>\n",
       "      <td>4</td>\n",
       "      <td>9</td>\n",
       "      <td>e</td>\n",
       "    </tr>\n",
       "  </tbody>\n",
       "</table>\n",
       "</div>"
      ],
      "text/plain": [
       "   A  B  C\n",
       "0  0  5  a\n",
       "1  1  6  b\n",
       "2  2  7  c\n",
       "3  3  8  d\n",
       "4  4  9  e"
      ]
     },
     "execution_count": 9,
     "metadata": {},
     "output_type": "execute_result"
    }
   ],
   "source": [
    "data = pd.DataFrame({'A':[0, 1, 2, 3, 4],\n",
    "                   'B':[5, 6, 7, 8, 9],\n",
    "                   'C':['a', 'b', 'c', 'd', 'e']})\n",
    "data"
   ]
  },
  {
   "attachments": {},
   "cell_type": "markdown",
   "metadata": {},
   "source": [
    "#### 直接替换\n",
    "* 重新赋值或需设置**inplace=True**"
   ]
  },
  {
   "cell_type": "markdown",
   "metadata": {},
   "source": [
    "#### 整数类型"
   ]
  },
  {
   "cell_type": "code",
   "execution_count": 12,
   "metadata": {},
   "outputs": [
    {
     "data": {
      "text/html": [
       "<div>\n",
       "<style scoped>\n",
       "    .dataframe tbody tr th:only-of-type {\n",
       "        vertical-align: middle;\n",
       "    }\n",
       "\n",
       "    .dataframe tbody tr th {\n",
       "        vertical-align: top;\n",
       "    }\n",
       "\n",
       "    .dataframe thead th {\n",
       "        text-align: right;\n",
       "    }\n",
       "</style>\n",
       "<table border=\"1\" class=\"dataframe\">\n",
       "  <thead>\n",
       "    <tr style=\"text-align: right;\">\n",
       "      <th></th>\n",
       "      <th>A</th>\n",
       "      <th>B</th>\n",
       "      <th>C</th>\n",
       "    </tr>\n",
       "  </thead>\n",
       "  <tbody>\n",
       "    <tr>\n",
       "      <th>0</th>\n",
       "      <td>50</td>\n",
       "      <td>5</td>\n",
       "      <td>a</td>\n",
       "    </tr>\n",
       "    <tr>\n",
       "      <th>1</th>\n",
       "      <td>1</td>\n",
       "      <td>6</td>\n",
       "      <td>b</td>\n",
       "    </tr>\n",
       "    <tr>\n",
       "      <th>2</th>\n",
       "      <td>2</td>\n",
       "      <td>7</td>\n",
       "      <td>c</td>\n",
       "    </tr>\n",
       "    <tr>\n",
       "      <th>3</th>\n",
       "      <td>3</td>\n",
       "      <td>8</td>\n",
       "      <td>d</td>\n",
       "    </tr>\n",
       "    <tr>\n",
       "      <th>4</th>\n",
       "      <td>4</td>\n",
       "      <td>9</td>\n",
       "      <td>e</td>\n",
       "    </tr>\n",
       "  </tbody>\n",
       "</table>\n",
       "</div>"
      ],
      "text/plain": [
       "    A  B  C\n",
       "0  50  5  a\n",
       "1   1  6  b\n",
       "2   2  7  c\n",
       "3   3  8  d\n",
       "4   4  9  e"
      ]
     },
     "execution_count": 12,
     "metadata": {},
     "output_type": "execute_result"
    }
   ],
   "source": [
    "# 直接将data中的0替换为1000\n",
    "data.replace(0,50,inplace=True)\n",
    "data"
   ]
  },
  {
   "cell_type": "markdown",
   "metadata": {},
   "source": [
    "#### 字符串类型"
   ]
  },
  {
   "cell_type": "code",
   "execution_count": 13,
   "metadata": {},
   "outputs": [
    {
     "data": {
      "text/html": [
       "<div>\n",
       "<style scoped>\n",
       "    .dataframe tbody tr th:only-of-type {\n",
       "        vertical-align: middle;\n",
       "    }\n",
       "\n",
       "    .dataframe tbody tr th {\n",
       "        vertical-align: top;\n",
       "    }\n",
       "\n",
       "    .dataframe thead th {\n",
       "        text-align: right;\n",
       "    }\n",
       "</style>\n",
       "<table border=\"1\" class=\"dataframe\">\n",
       "  <thead>\n",
       "    <tr style=\"text-align: right;\">\n",
       "      <th></th>\n",
       "      <th>名称</th>\n",
       "      <th>数量</th>\n",
       "      <th>金额</th>\n",
       "      <th>合计</th>\n",
       "    </tr>\n",
       "  </thead>\n",
       "  <tbody>\n",
       "    <tr>\n",
       "      <th>0</th>\n",
       "      <td>&lt;a&gt;产品1</td>\n",
       "      <td>A</td>\n",
       "      <td>0</td>\n",
       "      <td>D</td>\n",
       "    </tr>\n",
       "    <tr>\n",
       "      <th>1</th>\n",
       "      <td>&lt;a&gt;产品2</td>\n",
       "      <td>0.7</td>\n",
       "      <td>0.48</td>\n",
       "      <td>0.37</td>\n",
       "    </tr>\n",
       "    <tr>\n",
       "      <th>2</th>\n",
       "      <td>&lt;a&gt;产品3</td>\n",
       "      <td>0.8</td>\n",
       "      <td>0.33</td>\n",
       "      <td>0.2</td>\n",
       "    </tr>\n",
       "  </tbody>\n",
       "</table>\n",
       "</div>"
      ],
      "text/plain": [
       "       名称   数量    金额    合计\n",
       "0  <a>产品1    A     0     D\n",
       "1  <a>产品2  0.7  0.48  0.37\n",
       "2  <a>产品3  0.8  0.33   0.2"
      ]
     },
     "execution_count": 13,
     "metadata": {},
     "output_type": "execute_result"
    }
   ],
   "source": [
    "data1 = pd.DataFrame(\n",
    "        {\n",
    "            '名称':['<a>产品1','<a>产品2','<a>产品3'],\n",
    "            '数量':['A','0.7','0.8'],\n",
    "            '金额':['0','0.48','0.33'],\n",
    "            '合计':['D','0.37','0.2'],\n",
    "        }        \n",
    "        )\n",
    "data1"
   ]
  },
  {
   "cell_type": "code",
   "execution_count": 15,
   "metadata": {},
   "outputs": [
    {
     "data": {
      "text/html": [
       "<div>\n",
       "<style scoped>\n",
       "    .dataframe tbody tr th:only-of-type {\n",
       "        vertical-align: middle;\n",
       "    }\n",
       "\n",
       "    .dataframe tbody tr th {\n",
       "        vertical-align: top;\n",
       "    }\n",
       "\n",
       "    .dataframe thead th {\n",
       "        text-align: right;\n",
       "    }\n",
       "</style>\n",
       "<table border=\"1\" class=\"dataframe\">\n",
       "  <thead>\n",
       "    <tr style=\"text-align: right;\">\n",
       "      <th></th>\n",
       "      <th>名称</th>\n",
       "      <th>数量</th>\n",
       "      <th>金额</th>\n",
       "      <th>合计</th>\n",
       "    </tr>\n",
       "  </thead>\n",
       "  <tbody>\n",
       "    <tr>\n",
       "      <th>0</th>\n",
       "      <td>&lt;a&gt;产品1</td>\n",
       "      <td>A</td>\n",
       "      <td>0</td>\n",
       "      <td>D</td>\n",
       "    </tr>\n",
       "    <tr>\n",
       "      <th>1</th>\n",
       "      <td>&lt;a&gt;产品2</td>\n",
       "      <td>0.7</td>\n",
       "      <td>0.48</td>\n",
       "      <td>0.37</td>\n",
       "    </tr>\n",
       "    <tr>\n",
       "      <th>2</th>\n",
       "      <td>&lt;a&gt;产品3</td>\n",
       "      <td>0.8</td>\n",
       "      <td>0.33</td>\n",
       "      <td>0.2</td>\n",
       "    </tr>\n",
       "  </tbody>\n",
       "</table>\n",
       "</div>"
      ],
      "text/plain": [
       "       名称   数量    金额    合计\n",
       "0  <a>产品1    A     0     D\n",
       "1  <a>产品2  0.7  0.48  0.37\n",
       "2  <a>产品3  0.8  0.33   0.2"
      ]
     },
     "execution_count": 15,
     "metadata": {},
     "output_type": "execute_result"
    }
   ],
   "source": [
    "# 想把前面多余的‘<a>’给去掉,但执行代码后无效\n",
    "data1_copy = data1.copy()\t\t\t\t\t\t\t#备份\n",
    "data1['名称'].replace('<a>','',inplace=True)\t#replace函数需要重新赋值才是真正生效，不然的话要加个inplace=True\n",
    "data1"
   ]
  },
  {
   "cell_type": "code",
   "execution_count": 18,
   "metadata": {},
   "outputs": [
    {
     "data": {
      "text/html": [
       "<div>\n",
       "<style scoped>\n",
       "    .dataframe tbody tr th:only-of-type {\n",
       "        vertical-align: middle;\n",
       "    }\n",
       "\n",
       "    .dataframe tbody tr th {\n",
       "        vertical-align: top;\n",
       "    }\n",
       "\n",
       "    .dataframe thead th {\n",
       "        text-align: right;\n",
       "    }\n",
       "</style>\n",
       "<table border=\"1\" class=\"dataframe\">\n",
       "  <thead>\n",
       "    <tr style=\"text-align: right;\">\n",
       "      <th></th>\n",
       "      <th>名称</th>\n",
       "      <th>数量</th>\n",
       "      <th>金额</th>\n",
       "      <th>合计</th>\n",
       "    </tr>\n",
       "  </thead>\n",
       "  <tbody>\n",
       "    <tr>\n",
       "      <th>0</th>\n",
       "      <td>产品1</td>\n",
       "      <td>A</td>\n",
       "      <td>0</td>\n",
       "      <td>D</td>\n",
       "    </tr>\n",
       "    <tr>\n",
       "      <th>1</th>\n",
       "      <td>产品2</td>\n",
       "      <td>0.7</td>\n",
       "      <td>0.48</td>\n",
       "      <td>0.37</td>\n",
       "    </tr>\n",
       "    <tr>\n",
       "      <th>2</th>\n",
       "      <td>产品3</td>\n",
       "      <td>0.8</td>\n",
       "      <td>0.33</td>\n",
       "      <td>0.2</td>\n",
       "    </tr>\n",
       "  </tbody>\n",
       "</table>\n",
       "</div>"
      ],
      "text/plain": [
       "    名称   数量    金额    合计\n",
       "0  产品1    A     0     D\n",
       "1  产品2  0.7  0.48  0.37\n",
       "2  产品3  0.8  0.33   0.2"
      ]
     },
     "execution_count": 18,
     "metadata": {},
     "output_type": "execute_result"
    }
   ],
   "source": [
    "# 不能直接调用replace()，需要转为字符串，才可以对元素的部分内容进行修改\n",
    "# 原因是直接调用replace()是替换整个元素，要对某个元素的部分进行修改，就必须转成字符串，来实现字符串部分替换\n",
    "data1_copy = data1.copy()\n",
    "data1.名称 = data1['名称'].str.replace('<a>','')\n",
    "data1"
   ]
  },
  {
   "cell_type": "markdown",
   "metadata": {},
   "source": [
    "### 列表替换"
   ]
  },
  {
   "cell_type": "code",
   "execution_count": 34,
   "metadata": {},
   "outputs": [
    {
     "data": {
      "text/html": [
       "<div>\n",
       "<style scoped>\n",
       "    .dataframe tbody tr th:only-of-type {\n",
       "        vertical-align: middle;\n",
       "    }\n",
       "\n",
       "    .dataframe tbody tr th {\n",
       "        vertical-align: top;\n",
       "    }\n",
       "\n",
       "    .dataframe thead th {\n",
       "        text-align: right;\n",
       "    }\n",
       "</style>\n",
       "<table border=\"1\" class=\"dataframe\">\n",
       "  <thead>\n",
       "    <tr style=\"text-align: right;\">\n",
       "      <th></th>\n",
       "      <th>A</th>\n",
       "      <th>B</th>\n",
       "      <th>C</th>\n",
       "    </tr>\n",
       "  </thead>\n",
       "  <tbody>\n",
       "    <tr>\n",
       "      <th>0</th>\n",
       "      <td>0</td>\n",
       "      <td>5</td>\n",
       "      <td>a</td>\n",
       "    </tr>\n",
       "    <tr>\n",
       "      <th>1</th>\n",
       "      <td>1</td>\n",
       "      <td>6</td>\n",
       "      <td>b</td>\n",
       "    </tr>\n",
       "    <tr>\n",
       "      <th>2</th>\n",
       "      <td>2</td>\n",
       "      <td>7</td>\n",
       "      <td>c</td>\n",
       "    </tr>\n",
       "    <tr>\n",
       "      <th>3</th>\n",
       "      <td>3</td>\n",
       "      <td>8</td>\n",
       "      <td>d</td>\n",
       "    </tr>\n",
       "    <tr>\n",
       "      <th>4</th>\n",
       "      <td>4</td>\n",
       "      <td>9</td>\n",
       "      <td>e</td>\n",
       "    </tr>\n",
       "  </tbody>\n",
       "</table>\n",
       "</div>"
      ],
      "text/plain": [
       "   A  B  C\n",
       "0  0  5  a\n",
       "1  1  6  b\n",
       "2  2  7  c\n",
       "3  3  8  d\n",
       "4  4  9  e"
      ]
     },
     "execution_count": 34,
     "metadata": {},
     "output_type": "execute_result"
    }
   ],
   "source": [
    "data2 = pd.DataFrame({'A':[0, 1, 2, 3, 4],\n",
    "                   'B':[5, 6, 7, 8, 9],\n",
    "                   'C':['a', 'b', 'c', 'd', 'e']})\n",
    "data2"
   ]
  },
  {
   "cell_type": "code",
   "execution_count": 24,
   "metadata": {},
   "outputs": [
    {
     "data": {
      "text/html": [
       "<div>\n",
       "<style scoped>\n",
       "    .dataframe tbody tr th:only-of-type {\n",
       "        vertical-align: middle;\n",
       "    }\n",
       "\n",
       "    .dataframe tbody tr th {\n",
       "        vertical-align: top;\n",
       "    }\n",
       "\n",
       "    .dataframe thead th {\n",
       "        text-align: right;\n",
       "    }\n",
       "</style>\n",
       "<table border=\"1\" class=\"dataframe\">\n",
       "  <thead>\n",
       "    <tr style=\"text-align: right;\">\n",
       "      <th></th>\n",
       "      <th>A</th>\n",
       "      <th>B</th>\n",
       "      <th>C</th>\n",
       "    </tr>\n",
       "  </thead>\n",
       "  <tbody>\n",
       "    <tr>\n",
       "      <th>0</th>\n",
       "      <td>4</td>\n",
       "      <td>5</td>\n",
       "      <td>a</td>\n",
       "    </tr>\n",
       "    <tr>\n",
       "      <th>1</th>\n",
       "      <td>4</td>\n",
       "      <td>6</td>\n",
       "      <td>b</td>\n",
       "    </tr>\n",
       "    <tr>\n",
       "      <th>2</th>\n",
       "      <td>4</td>\n",
       "      <td>7</td>\n",
       "      <td>c</td>\n",
       "    </tr>\n",
       "    <tr>\n",
       "      <th>3</th>\n",
       "      <td>4</td>\n",
       "      <td>8</td>\n",
       "      <td>d</td>\n",
       "    </tr>\n",
       "    <tr>\n",
       "      <th>4</th>\n",
       "      <td>4</td>\n",
       "      <td>9</td>\n",
       "      <td>e</td>\n",
       "    </tr>\n",
       "  </tbody>\n",
       "</table>\n",
       "</div>"
      ],
      "text/plain": [
       "   A  B  C\n",
       "0  4  5  a\n",
       "1  4  6  b\n",
       "2  4  7  c\n",
       "3  4  8  d\n",
       "4  4  9  e"
      ]
     },
     "execution_count": 24,
     "metadata": {},
     "output_type": "execute_result"
    }
   ],
   "source": [
    "# 0~4替换为4\n",
    "data2.replace([0,1,2,3,4],4,inplace=True)\n",
    "data2"
   ]
  },
  {
   "cell_type": "code",
   "execution_count": 28,
   "metadata": {},
   "outputs": [
    {
     "data": {
      "text/html": [
       "<div>\n",
       "<style scoped>\n",
       "    .dataframe tbody tr th:only-of-type {\n",
       "        vertical-align: middle;\n",
       "    }\n",
       "\n",
       "    .dataframe tbody tr th {\n",
       "        vertical-align: top;\n",
       "    }\n",
       "\n",
       "    .dataframe thead th {\n",
       "        text-align: right;\n",
       "    }\n",
       "</style>\n",
       "<table border=\"1\" class=\"dataframe\">\n",
       "  <thead>\n",
       "    <tr style=\"text-align: right;\">\n",
       "      <th></th>\n",
       "      <th>A</th>\n",
       "      <th>B</th>\n",
       "      <th>C</th>\n",
       "    </tr>\n",
       "  </thead>\n",
       "  <tbody>\n",
       "    <tr>\n",
       "      <th>0</th>\n",
       "      <td>1</td>\n",
       "      <td>5</td>\n",
       "      <td>a</td>\n",
       "    </tr>\n",
       "    <tr>\n",
       "      <th>1</th>\n",
       "      <td>10</td>\n",
       "      <td>6</td>\n",
       "      <td>b</td>\n",
       "    </tr>\n",
       "    <tr>\n",
       "      <th>2</th>\n",
       "      <td>20</td>\n",
       "      <td>7</td>\n",
       "      <td>c</td>\n",
       "    </tr>\n",
       "    <tr>\n",
       "      <th>3</th>\n",
       "      <td>30</td>\n",
       "      <td>8</td>\n",
       "      <td>d</td>\n",
       "    </tr>\n",
       "    <tr>\n",
       "      <th>4</th>\n",
       "      <td>40</td>\n",
       "      <td>9</td>\n",
       "      <td>e</td>\n",
       "    </tr>\n",
       "  </tbody>\n",
       "</table>\n",
       "</div>"
      ],
      "text/plain": [
       "    A  B  C\n",
       "0   1  5  a\n",
       "1  10  6  b\n",
       "2  20  7  c\n",
       "3  30  8  d\n",
       "4  40  9  e"
      ]
     },
     "execution_count": 28,
     "metadata": {},
     "output_type": "execute_result"
    }
   ],
   "source": [
    "data2.replace([0,1,2,3,4],[1,10,20,30,40],inplace=True)\n",
    "data2"
   ]
  },
  {
   "cell_type": "markdown",
   "metadata": {},
   "source": [
    "### 字典替换\n",
    "to_replace指需要替换的值，value指要替换成的新值"
   ]
  },
  {
   "cell_type": "code",
   "execution_count": 42,
   "metadata": {},
   "outputs": [
    {
     "data": {
      "text/html": [
       "<div>\n",
       "<style scoped>\n",
       "    .dataframe tbody tr th:only-of-type {\n",
       "        vertical-align: middle;\n",
       "    }\n",
       "\n",
       "    .dataframe tbody tr th {\n",
       "        vertical-align: top;\n",
       "    }\n",
       "\n",
       "    .dataframe thead th {\n",
       "        text-align: right;\n",
       "    }\n",
       "</style>\n",
       "<table border=\"1\" class=\"dataframe\">\n",
       "  <thead>\n",
       "    <tr style=\"text-align: right;\">\n",
       "      <th></th>\n",
       "      <th>A</th>\n",
       "      <th>B</th>\n",
       "      <th>C</th>\n",
       "    </tr>\n",
       "  </thead>\n",
       "  <tbody>\n",
       "    <tr>\n",
       "      <th>0</th>\n",
       "      <td>0</td>\n",
       "      <td>5</td>\n",
       "      <td>0</td>\n",
       "    </tr>\n",
       "    <tr>\n",
       "      <th>1</th>\n",
       "      <td>1</td>\n",
       "      <td>0</td>\n",
       "      <td>1</td>\n",
       "    </tr>\n",
       "    <tr>\n",
       "      <th>2</th>\n",
       "      <td>2</td>\n",
       "      <td>7</td>\n",
       "      <td>2</td>\n",
       "    </tr>\n",
       "    <tr>\n",
       "      <th>3</th>\n",
       "      <td>3</td>\n",
       "      <td>1</td>\n",
       "      <td>1</td>\n",
       "    </tr>\n",
       "    <tr>\n",
       "      <th>4</th>\n",
       "      <td>4</td>\n",
       "      <td>9</td>\n",
       "      <td>0</td>\n",
       "    </tr>\n",
       "  </tbody>\n",
       "</table>\n",
       "</div>"
      ],
      "text/plain": [
       "   A  B  C\n",
       "0  0  5  0\n",
       "1  1  0  1\n",
       "2  2  7  2\n",
       "3  3  1  1\n",
       "4  4  9  0"
      ]
     },
     "execution_count": 42,
     "metadata": {},
     "output_type": "execute_result"
    }
   ],
   "source": [
    "data2 = pd.DataFrame({'A':[0, 1, 2, 3, 4],\n",
    "                   'B':[5, 0, 7, 1, 9],\n",
    "                   'C':[0, 1, 2, 1, 0]})\n",
    "data2"
   ]
  },
  {
   "cell_type": "code",
   "execution_count": 33,
   "metadata": {},
   "outputs": [
    {
     "data": {
      "text/html": [
       "<div>\n",
       "<style scoped>\n",
       "    .dataframe tbody tr th:only-of-type {\n",
       "        vertical-align: middle;\n",
       "    }\n",
       "\n",
       "    .dataframe tbody tr th {\n",
       "        vertical-align: top;\n",
       "    }\n",
       "\n",
       "    .dataframe thead th {\n",
       "        text-align: right;\n",
       "    }\n",
       "</style>\n",
       "<table border=\"1\" class=\"dataframe\">\n",
       "  <thead>\n",
       "    <tr style=\"text-align: right;\">\n",
       "      <th></th>\n",
       "      <th>A</th>\n",
       "      <th>B</th>\n",
       "      <th>C</th>\n",
       "    </tr>\n",
       "  </thead>\n",
       "  <tbody>\n",
       "    <tr>\n",
       "      <th>0</th>\n",
       "      <td>100</td>\n",
       "      <td>5</td>\n",
       "      <td>100</td>\n",
       "    </tr>\n",
       "    <tr>\n",
       "      <th>1</th>\n",
       "      <td>2000</td>\n",
       "      <td>100</td>\n",
       "      <td>2000</td>\n",
       "    </tr>\n",
       "    <tr>\n",
       "      <th>2</th>\n",
       "      <td>2</td>\n",
       "      <td>7</td>\n",
       "      <td>2</td>\n",
       "    </tr>\n",
       "    <tr>\n",
       "      <th>3</th>\n",
       "      <td>3</td>\n",
       "      <td>2000</td>\n",
       "      <td>2000</td>\n",
       "    </tr>\n",
       "    <tr>\n",
       "      <th>4</th>\n",
       "      <td>4</td>\n",
       "      <td>9</td>\n",
       "      <td>100</td>\n",
       "    </tr>\n",
       "  </tbody>\n",
       "</table>\n",
       "</div>"
      ],
      "text/plain": [
       "      A     B     C\n",
       "0   100     5   100\n",
       "1  2000   100  2000\n",
       "2     2     7     2\n",
       "3     3  2000  2000\n",
       "4     4     9   100"
      ]
     },
     "execution_count": 33,
     "metadata": {},
     "output_type": "execute_result"
    }
   ],
   "source": [
    "# 全表替换\n",
    "data2.replace({0:100,1:2000},inplace=True)\n",
    "data2"
   ]
  },
  {
   "cell_type": "code",
   "execution_count": 43,
   "metadata": {},
   "outputs": [
    {
     "data": {
      "text/html": [
       "<div>\n",
       "<style scoped>\n",
       "    .dataframe tbody tr th:only-of-type {\n",
       "        vertical-align: middle;\n",
       "    }\n",
       "\n",
       "    .dataframe tbody tr th {\n",
       "        vertical-align: top;\n",
       "    }\n",
       "\n",
       "    .dataframe thead th {\n",
       "        text-align: right;\n",
       "    }\n",
       "</style>\n",
       "<table border=\"1\" class=\"dataframe\">\n",
       "  <thead>\n",
       "    <tr style=\"text-align: right;\">\n",
       "      <th></th>\n",
       "      <th>A</th>\n",
       "      <th>B</th>\n",
       "      <th>C</th>\n",
       "    </tr>\n",
       "  </thead>\n",
       "  <tbody>\n",
       "    <tr>\n",
       "      <th>0</th>\n",
       "      <td>0</td>\n",
       "      <td>5</td>\n",
       "      <td>0</td>\n",
       "    </tr>\n",
       "    <tr>\n",
       "      <th>1</th>\n",
       "      <td>1</td>\n",
       "      <td>0</td>\n",
       "      <td>1</td>\n",
       "    </tr>\n",
       "    <tr>\n",
       "      <th>2</th>\n",
       "      <td>2</td>\n",
       "      <td>7</td>\n",
       "      <td>2</td>\n",
       "    </tr>\n",
       "    <tr>\n",
       "      <th>3</th>\n",
       "      <td>3</td>\n",
       "      <td>1</td>\n",
       "      <td>1</td>\n",
       "    </tr>\n",
       "    <tr>\n",
       "      <th>4</th>\n",
       "      <td>4</td>\n",
       "      <td>9</td>\n",
       "      <td>0</td>\n",
       "    </tr>\n",
       "  </tbody>\n",
       "</table>\n",
       "</div>"
      ],
      "text/plain": [
       "   A  B  C\n",
       "0  0  5  0\n",
       "1  1  0  1\n",
       "2  2  7  2\n",
       "3  3  1  1\n",
       "4  4  9  0"
      ]
     },
     "execution_count": 43,
     "metadata": {},
     "output_type": "execute_result"
    }
   ],
   "source": [
    "data2"
   ]
  },
  {
   "cell_type": "markdown",
   "metadata": {},
   "source": [
    "#### 特定列替换"
   ]
  },
  {
   "cell_type": "code",
   "execution_count": 44,
   "metadata": {},
   "outputs": [
    {
     "data": {
      "text/html": [
       "<div>\n",
       "<style scoped>\n",
       "    .dataframe tbody tr th:only-of-type {\n",
       "        vertical-align: middle;\n",
       "    }\n",
       "\n",
       "    .dataframe tbody tr th {\n",
       "        vertical-align: top;\n",
       "    }\n",
       "\n",
       "    .dataframe thead th {\n",
       "        text-align: right;\n",
       "    }\n",
       "</style>\n",
       "<table border=\"1\" class=\"dataframe\">\n",
       "  <thead>\n",
       "    <tr style=\"text-align: right;\">\n",
       "      <th></th>\n",
       "      <th>A</th>\n",
       "      <th>B</th>\n",
       "      <th>C</th>\n",
       "    </tr>\n",
       "  </thead>\n",
       "  <tbody>\n",
       "    <tr>\n",
       "      <th>0</th>\n",
       "      <td>5000</td>\n",
       "      <td>5</td>\n",
       "      <td>0</td>\n",
       "    </tr>\n",
       "    <tr>\n",
       "      <th>1</th>\n",
       "      <td>1</td>\n",
       "      <td>5000</td>\n",
       "      <td>1</td>\n",
       "    </tr>\n",
       "    <tr>\n",
       "      <th>2</th>\n",
       "      <td>2</td>\n",
       "      <td>7</td>\n",
       "      <td>2</td>\n",
       "    </tr>\n",
       "    <tr>\n",
       "      <th>3</th>\n",
       "      <td>3</td>\n",
       "      <td>1</td>\n",
       "      <td>1</td>\n",
       "    </tr>\n",
       "    <tr>\n",
       "      <th>4</th>\n",
       "      <td>4</td>\n",
       "      <td>9</td>\n",
       "      <td>0</td>\n",
       "    </tr>\n",
       "  </tbody>\n",
       "</table>\n",
       "</div>"
      ],
      "text/plain": [
       "      A     B  C\n",
       "0  5000     5  0\n",
       "1     1  5000  1\n",
       "2     2     7  2\n",
       "3     3     1  1\n",
       "4     4     9  0"
      ]
     },
     "execution_count": 44,
     "metadata": {},
     "output_type": "execute_result"
    }
   ],
   "source": [
    "data2_copy = data2.copy()\n",
    "data2.replace({'A':0,'B':0},value=5000,inplace=True)\n",
    "data2"
   ]
  },
  {
   "cell_type": "code",
   "execution_count": 45,
   "metadata": {},
   "outputs": [
    {
     "data": {
      "text/html": [
       "<div>\n",
       "<style scoped>\n",
       "    .dataframe tbody tr th:only-of-type {\n",
       "        vertical-align: middle;\n",
       "    }\n",
       "\n",
       "    .dataframe tbody tr th {\n",
       "        vertical-align: top;\n",
       "    }\n",
       "\n",
       "    .dataframe thead th {\n",
       "        text-align: right;\n",
       "    }\n",
       "</style>\n",
       "<table border=\"1\" class=\"dataframe\">\n",
       "  <thead>\n",
       "    <tr style=\"text-align: right;\">\n",
       "      <th></th>\n",
       "      <th>A</th>\n",
       "      <th>B</th>\n",
       "      <th>C</th>\n",
       "    </tr>\n",
       "  </thead>\n",
       "  <tbody>\n",
       "    <tr>\n",
       "      <th>0</th>\n",
       "      <td>0</td>\n",
       "      <td>5</td>\n",
       "      <td>0</td>\n",
       "    </tr>\n",
       "    <tr>\n",
       "      <th>1</th>\n",
       "      <td>1</td>\n",
       "      <td>0</td>\n",
       "      <td>1</td>\n",
       "    </tr>\n",
       "    <tr>\n",
       "      <th>2</th>\n",
       "      <td>2</td>\n",
       "      <td>7</td>\n",
       "      <td>2</td>\n",
       "    </tr>\n",
       "    <tr>\n",
       "      <th>3</th>\n",
       "      <td>3</td>\n",
       "      <td>1</td>\n",
       "      <td>1</td>\n",
       "    </tr>\n",
       "    <tr>\n",
       "      <th>4</th>\n",
       "      <td>4</td>\n",
       "      <td>9</td>\n",
       "      <td>0</td>\n",
       "    </tr>\n",
       "  </tbody>\n",
       "</table>\n",
       "</div>"
      ],
      "text/plain": [
       "   A  B  C\n",
       "0  0  5  0\n",
       "1  1  0  1\n",
       "2  2  7  2\n",
       "3  3  1  1\n",
       "4  4  9  0"
      ]
     },
     "execution_count": 45,
     "metadata": {},
     "output_type": "execute_result"
    }
   ],
   "source": [
    "data2_copy"
   ]
  },
  {
   "cell_type": "markdown",
   "metadata": {},
   "source": [
    "####　单列替换"
   ]
  },
  {
   "cell_type": "code",
   "execution_count": 48,
   "metadata": {},
   "outputs": [
    {
     "data": {
      "text/html": [
       "<div>\n",
       "<style scoped>\n",
       "    .dataframe tbody tr th:only-of-type {\n",
       "        vertical-align: middle;\n",
       "    }\n",
       "\n",
       "    .dataframe tbody tr th {\n",
       "        vertical-align: top;\n",
       "    }\n",
       "\n",
       "    .dataframe thead th {\n",
       "        text-align: right;\n",
       "    }\n",
       "</style>\n",
       "<table border=\"1\" class=\"dataframe\">\n",
       "  <thead>\n",
       "    <tr style=\"text-align: right;\">\n",
       "      <th></th>\n",
       "      <th>A</th>\n",
       "      <th>B</th>\n",
       "      <th>C</th>\n",
       "    </tr>\n",
       "  </thead>\n",
       "  <tbody>\n",
       "    <tr>\n",
       "      <th>0</th>\n",
       "      <td>100</td>\n",
       "      <td>5</td>\n",
       "      <td>0</td>\n",
       "    </tr>\n",
       "    <tr>\n",
       "      <th>1</th>\n",
       "      <td>200</td>\n",
       "      <td>0</td>\n",
       "      <td>1</td>\n",
       "    </tr>\n",
       "    <tr>\n",
       "      <th>2</th>\n",
       "      <td>2</td>\n",
       "      <td>7</td>\n",
       "      <td>2</td>\n",
       "    </tr>\n",
       "    <tr>\n",
       "      <th>3</th>\n",
       "      <td>3</td>\n",
       "      <td>1</td>\n",
       "      <td>1</td>\n",
       "    </tr>\n",
       "    <tr>\n",
       "      <th>4</th>\n",
       "      <td>4</td>\n",
       "      <td>9</td>\n",
       "      <td>0</td>\n",
       "    </tr>\n",
       "  </tbody>\n",
       "</table>\n",
       "</div>"
      ],
      "text/plain": [
       "     A  B  C\n",
       "0  100  5  0\n",
       "1  200  0  1\n",
       "2    2  7  2\n",
       "3    3  1  1\n",
       "4    4  9  0"
      ]
     },
     "execution_count": 48,
     "metadata": {},
     "output_type": "execute_result"
    }
   ],
   "source": [
    "data2_copy.replace({'A':{0:100,1:200}},inplace=True)   # 主义双层字典\n",
    "data2_copy"
   ]
  },
  {
   "attachments": {},
   "cell_type": "markdown",
   "metadata": {},
   "source": [
    "### apply\n",
    "将一个自定义函数作用于DataFrame的行或列，也可以用作Series，默认为行\n",
    "DataFrame.apply(func, axis=0, raw=False, result_type=None, args=(), **kwargs)\n",
    "|参数|说明|\n",
    "|:--------|:--------|\n",
    "|func|应用于每一列或每一行的函数|\n",
    "|axis|{0 或 ‘index’，1 或 ‘columns’}，默认 0|\n",
    "|raw|默认为 False,确定行或列是否作为 Series 或 ndarray 对象传递,False ：将每一行或每一列作为系列传递给函数|\n",
    "|result_type：{‘expand’, ‘reduce’, ‘broadcast’, 无}|默认无;这些仅在axis=1(列)时起作用;‘expand’:list-like 结果将转换为列,boadcast,改变原df,reduce返回一个序列非list|\n",
    "|args：元组|除了数组/系列之外，要传递给 func 的位置参数|\n",
    "|**kwargs|附加关键字参数作为关键字参数传递给 func|\n",
    "|返回|Series或DataFrame;沿 DataFrame 的给定轴应用func 的结果|\n"
   ]
  },
  {
   "cell_type": "code",
   "execution_count": 63,
   "metadata": {},
   "outputs": [
    {
     "data": {
      "text/html": [
       "<div>\n",
       "<style scoped>\n",
       "    .dataframe tbody tr th:only-of-type {\n",
       "        vertical-align: middle;\n",
       "    }\n",
       "\n",
       "    .dataframe tbody tr th {\n",
       "        vertical-align: top;\n",
       "    }\n",
       "\n",
       "    .dataframe thead th {\n",
       "        text-align: right;\n",
       "    }\n",
       "</style>\n",
       "<table border=\"1\" class=\"dataframe\">\n",
       "  <thead>\n",
       "    <tr style=\"text-align: right;\">\n",
       "      <th></th>\n",
       "      <th>A</th>\n",
       "      <th>B</th>\n",
       "    </tr>\n",
       "  </thead>\n",
       "  <tbody>\n",
       "    <tr>\n",
       "      <th>0</th>\n",
       "      <td>4</td>\n",
       "      <td>9</td>\n",
       "    </tr>\n",
       "    <tr>\n",
       "      <th>1</th>\n",
       "      <td>4</td>\n",
       "      <td>9</td>\n",
       "    </tr>\n",
       "    <tr>\n",
       "      <th>2</th>\n",
       "      <td>4</td>\n",
       "      <td>9</td>\n",
       "    </tr>\n",
       "  </tbody>\n",
       "</table>\n",
       "</div>"
      ],
      "text/plain": [
       "   A  B\n",
       "0  4  9\n",
       "1  4  9\n",
       "2  4  9"
      ]
     },
     "execution_count": 63,
     "metadata": {},
     "output_type": "execute_result"
    }
   ],
   "source": [
    "data = pd.DataFrame([[4,9]]*3, columns=['A','B'])\n",
    "data"
   ]
  },
  {
   "cell_type": "code",
   "execution_count": 52,
   "metadata": {},
   "outputs": [],
   "source": [
    "import numpy as np"
   ]
  },
  {
   "attachments": {},
   "cell_type": "markdown",
   "metadata": {},
   "source": [
    "#### 默认按列"
   ]
  },
  {
   "cell_type": "code",
   "execution_count": 64,
   "metadata": {},
   "outputs": [
    {
     "data": {
      "text/html": [
       "<div>\n",
       "<style scoped>\n",
       "    .dataframe tbody tr th:only-of-type {\n",
       "        vertical-align: middle;\n",
       "    }\n",
       "\n",
       "    .dataframe tbody tr th {\n",
       "        vertical-align: top;\n",
       "    }\n",
       "\n",
       "    .dataframe thead th {\n",
       "        text-align: right;\n",
       "    }\n",
       "</style>\n",
       "<table border=\"1\" class=\"dataframe\">\n",
       "  <thead>\n",
       "    <tr style=\"text-align: right;\">\n",
       "      <th></th>\n",
       "      <th>A</th>\n",
       "      <th>B</th>\n",
       "    </tr>\n",
       "  </thead>\n",
       "  <tbody>\n",
       "    <tr>\n",
       "      <th>0</th>\n",
       "      <td>2.0</td>\n",
       "      <td>3.0</td>\n",
       "    </tr>\n",
       "    <tr>\n",
       "      <th>1</th>\n",
       "      <td>2.0</td>\n",
       "      <td>3.0</td>\n",
       "    </tr>\n",
       "    <tr>\n",
       "      <th>2</th>\n",
       "      <td>2.0</td>\n",
       "      <td>3.0</td>\n",
       "    </tr>\n",
       "  </tbody>\n",
       "</table>\n",
       "</div>"
      ],
      "text/plain": [
       "     A    B\n",
       "0  2.0  3.0\n",
       "1  2.0  3.0\n",
       "2  2.0  3.0"
      ]
     },
     "execution_count": 64,
     "metadata": {},
     "output_type": "execute_result"
    }
   ],
   "source": [
    "# 默认按列运用,返回的是dataframe\n",
    "data = data.apply(np.sqrt)\n",
    "data"
   ]
  },
  {
   "attachments": {},
   "cell_type": "markdown",
   "metadata": {},
   "source": [
    "#### axis=1按行"
   ]
  },
  {
   "cell_type": "code",
   "execution_count": 66,
   "metadata": {},
   "outputs": [
    {
     "data": {
      "text/html": [
       "<div>\n",
       "<style scoped>\n",
       "    .dataframe tbody tr th:only-of-type {\n",
       "        vertical-align: middle;\n",
       "    }\n",
       "\n",
       "    .dataframe tbody tr th {\n",
       "        vertical-align: top;\n",
       "    }\n",
       "\n",
       "    .dataframe thead th {\n",
       "        text-align: right;\n",
       "    }\n",
       "</style>\n",
       "<table border=\"1\" class=\"dataframe\">\n",
       "  <thead>\n",
       "    <tr style=\"text-align: right;\">\n",
       "      <th></th>\n",
       "      <th>A</th>\n",
       "      <th>B</th>\n",
       "    </tr>\n",
       "  </thead>\n",
       "  <tbody>\n",
       "    <tr>\n",
       "      <th>0</th>\n",
       "      <td>5</td>\n",
       "      <td>9</td>\n",
       "    </tr>\n",
       "    <tr>\n",
       "      <th>1</th>\n",
       "      <td>5</td>\n",
       "      <td>9</td>\n",
       "    </tr>\n",
       "    <tr>\n",
       "      <th>2</th>\n",
       "      <td>5</td>\n",
       "      <td>9</td>\n",
       "    </tr>\n",
       "  </tbody>\n",
       "</table>\n",
       "</div>"
      ],
      "text/plain": [
       "   A  B\n",
       "0  5  9\n",
       "1  5  9\n",
       "2  5  9"
      ]
     },
     "execution_count": 66,
     "metadata": {},
     "output_type": "execute_result"
    }
   ],
   "source": [
    "data1 = pd.DataFrame([[5,9]]*3, columns=['A','B'])\n",
    "data1"
   ]
  },
  {
   "cell_type": "code",
   "execution_count": 88,
   "metadata": {},
   "outputs": [
    {
     "data": {
      "text/plain": [
       "0    14\n",
       "1    14\n",
       "2    14\n",
       "dtype: int64"
      ]
     },
     "execution_count": 88,
     "metadata": {},
     "output_type": "execute_result"
    }
   ],
   "source": [
    "# 返回的是series\n",
    "data1.apply(np.sum, axis=1)"
   ]
  },
  {
   "cell_type": "code",
   "execution_count": 89,
   "metadata": {},
   "outputs": [
    {
     "data": {
      "text/html": [
       "<div>\n",
       "<style scoped>\n",
       "    .dataframe tbody tr th:only-of-type {\n",
       "        vertical-align: middle;\n",
       "    }\n",
       "\n",
       "    .dataframe tbody tr th {\n",
       "        vertical-align: top;\n",
       "    }\n",
       "\n",
       "    .dataframe thead th {\n",
       "        text-align: right;\n",
       "    }\n",
       "</style>\n",
       "<table border=\"1\" class=\"dataframe\">\n",
       "  <thead>\n",
       "    <tr style=\"text-align: right;\">\n",
       "      <th></th>\n",
       "      <th>A</th>\n",
       "      <th>B</th>\n",
       "      <th>C</th>\n",
       "    </tr>\n",
       "  </thead>\n",
       "  <tbody>\n",
       "    <tr>\n",
       "      <th>0</th>\n",
       "      <td>5</td>\n",
       "      <td>9</td>\n",
       "      <td>4</td>\n",
       "    </tr>\n",
       "    <tr>\n",
       "      <th>1</th>\n",
       "      <td>5</td>\n",
       "      <td>9</td>\n",
       "      <td>4</td>\n",
       "    </tr>\n",
       "    <tr>\n",
       "      <th>2</th>\n",
       "      <td>5</td>\n",
       "      <td>9</td>\n",
       "      <td>4</td>\n",
       "    </tr>\n",
       "  </tbody>\n",
       "</table>\n",
       "</div>"
      ],
      "text/plain": [
       "   A  B  C\n",
       "0  5  9  4\n",
       "1  5  9  4\n",
       "2  5  9  4"
      ]
     },
     "execution_count": 89,
     "metadata": {},
     "output_type": "execute_result"
    }
   ],
   "source": [
    "data2 = pd.DataFrame([[5,9,4]]*3, columns=['A','B','C'])\n",
    "data2"
   ]
  },
  {
   "attachments": {},
   "cell_type": "markdown",
   "metadata": {},
   "source": [
    "#### expand将产生的list-like结果扩展到df的列\n",
    "列名为df的列名"
   ]
  },
  {
   "cell_type": "code",
   "execution_count": 90,
   "metadata": {},
   "outputs": [
    {
     "data": {
      "text/html": [
       "<div>\n",
       "<style scoped>\n",
       "    .dataframe tbody tr th:only-of-type {\n",
       "        vertical-align: middle;\n",
       "    }\n",
       "\n",
       "    .dataframe tbody tr th {\n",
       "        vertical-align: top;\n",
       "    }\n",
       "\n",
       "    .dataframe thead th {\n",
       "        text-align: right;\n",
       "    }\n",
       "</style>\n",
       "<table border=\"1\" class=\"dataframe\">\n",
       "  <thead>\n",
       "    <tr style=\"text-align: right;\">\n",
       "      <th></th>\n",
       "      <th>0</th>\n",
       "      <th>1</th>\n",
       "      <th>2</th>\n",
       "    </tr>\n",
       "  </thead>\n",
       "  <tbody>\n",
       "    <tr>\n",
       "      <th>0</th>\n",
       "      <td>1</td>\n",
       "      <td>2</td>\n",
       "      <td>3</td>\n",
       "    </tr>\n",
       "    <tr>\n",
       "      <th>1</th>\n",
       "      <td>1</td>\n",
       "      <td>2</td>\n",
       "      <td>3</td>\n",
       "    </tr>\n",
       "    <tr>\n",
       "      <th>2</th>\n",
       "      <td>1</td>\n",
       "      <td>2</td>\n",
       "      <td>3</td>\n",
       "    </tr>\n",
       "  </tbody>\n",
       "</table>\n",
       "</div>"
      ],
      "text/plain": [
       "   0  1  2\n",
       "0  1  2  3\n",
       "1  1  2  3\n",
       "2  1  2  3"
      ]
     },
     "execution_count": 90,
     "metadata": {},
     "output_type": "execute_result"
    }
   ],
   "source": [
    "# 返回的是dataframe,列名为index\n",
    "data2.apply(lambda x:[1,2,3], result_type='expand', axis=1)"
   ]
  },
  {
   "cell_type": "code",
   "execution_count": 91,
   "metadata": {},
   "outputs": [
    {
     "data": {
      "text/html": [
       "<div>\n",
       "<style scoped>\n",
       "    .dataframe tbody tr th:only-of-type {\n",
       "        vertical-align: middle;\n",
       "    }\n",
       "\n",
       "    .dataframe tbody tr th {\n",
       "        vertical-align: top;\n",
       "    }\n",
       "\n",
       "    .dataframe thead th {\n",
       "        text-align: right;\n",
       "    }\n",
       "</style>\n",
       "<table border=\"1\" class=\"dataframe\">\n",
       "  <thead>\n",
       "    <tr style=\"text-align: right;\">\n",
       "      <th></th>\n",
       "      <th>A</th>\n",
       "      <th>B</th>\n",
       "      <th>C</th>\n",
       "    </tr>\n",
       "  </thead>\n",
       "  <tbody>\n",
       "    <tr>\n",
       "      <th>0</th>\n",
       "      <td>1</td>\n",
       "      <td>2</td>\n",
       "      <td>3</td>\n",
       "    </tr>\n",
       "    <tr>\n",
       "      <th>1</th>\n",
       "      <td>1</td>\n",
       "      <td>2</td>\n",
       "      <td>3</td>\n",
       "    </tr>\n",
       "    <tr>\n",
       "      <th>2</th>\n",
       "      <td>1</td>\n",
       "      <td>2</td>\n",
       "      <td>3</td>\n",
       "    </tr>\n",
       "  </tbody>\n",
       "</table>\n",
       "</div>"
      ],
      "text/plain": [
       "   A  B  C\n",
       "0  1  2  3\n",
       "1  1  2  3\n",
       "2  1  2  3"
      ]
     },
     "execution_count": 91,
     "metadata": {},
     "output_type": "execute_result"
    }
   ],
   "source": [
    "# 返回的是dataframe,列名为原始列名\n",
    "data2.apply(lambda x: [1, 2,3], axis=1, result_type='broadcast')"
   ]
  },
  {
   "attachments": {},
   "cell_type": "markdown",
   "metadata": {},
   "source": [
    "#### 直接作用于series/某一列"
   ]
  },
  {
   "cell_type": "code",
   "execution_count": 111,
   "metadata": {},
   "outputs": [
    {
     "data": {
      "text/plain": [
       "array(12)"
      ]
     },
     "execution_count": 111,
     "metadata": {},
     "output_type": "execute_result"
    }
   ],
   "source": [
    "np.array(12)"
   ]
  },
  {
   "cell_type": "code",
   "execution_count": 115,
   "metadata": {},
   "outputs": [
    {
     "data": {
      "text/html": [
       "<div>\n",
       "<style scoped>\n",
       "    .dataframe tbody tr th:only-of-type {\n",
       "        vertical-align: middle;\n",
       "    }\n",
       "\n",
       "    .dataframe tbody tr th {\n",
       "        vertical-align: top;\n",
       "    }\n",
       "\n",
       "    .dataframe thead th {\n",
       "        text-align: right;\n",
       "    }\n",
       "</style>\n",
       "<table border=\"1\" class=\"dataframe\">\n",
       "  <thead>\n",
       "    <tr style=\"text-align: right;\">\n",
       "      <th></th>\n",
       "      <th>one</th>\n",
       "      <th>two</th>\n",
       "      <th>three</th>\n",
       "      <th>four</th>\n",
       "    </tr>\n",
       "  </thead>\n",
       "  <tbody>\n",
       "    <tr>\n",
       "      <th>0</th>\n",
       "      <td>0</td>\n",
       "      <td>1</td>\n",
       "      <td>2</td>\n",
       "      <td>3</td>\n",
       "    </tr>\n",
       "    <tr>\n",
       "      <th>1</th>\n",
       "      <td>4</td>\n",
       "      <td>5</td>\n",
       "      <td>6</td>\n",
       "      <td>7</td>\n",
       "    </tr>\n",
       "    <tr>\n",
       "      <th>2</th>\n",
       "      <td>8</td>\n",
       "      <td>9</td>\n",
       "      <td>10</td>\n",
       "      <td>11</td>\n",
       "    </tr>\n",
       "  </tbody>\n",
       "</table>\n",
       "</div>"
      ],
      "text/plain": [
       "   one  two  three  four\n",
       "0    0    1      2     3\n",
       "1    4    5      6     7\n",
       "2    8    9     10    11"
      ]
     },
     "execution_count": 115,
     "metadata": {},
     "output_type": "execute_result"
    }
   ],
   "source": [
    "df = pd.DataFrame(np.arange(12).reshape(3,4),columns=['one','two','three','four'])\n",
    "df"
   ]
  },
  {
   "cell_type": "code",
   "execution_count": 116,
   "metadata": {},
   "outputs": [
    {
     "data": {
      "text/plain": [
       "0        -inf\n",
       "1    1.386294\n",
       "2    2.079442\n",
       "Name: one, dtype: float64"
      ]
     },
     "execution_count": 116,
     "metadata": {},
     "output_type": "execute_result"
    }
   ],
   "source": [
    "df['one'].apply(lambda x : np.log(x))"
   ]
  },
  {
   "attachments": {},
   "cell_type": "markdown",
   "metadata": {},
   "source": [
    "#### 直接作用于某两列"
   ]
  },
  {
   "cell_type": "code",
   "execution_count": 126,
   "metadata": {},
   "outputs": [
    {
     "data": {
      "text/html": [
       "<div>\n",
       "<style scoped>\n",
       "    .dataframe tbody tr th:only-of-type {\n",
       "        vertical-align: middle;\n",
       "    }\n",
       "\n",
       "    .dataframe tbody tr th {\n",
       "        vertical-align: top;\n",
       "    }\n",
       "\n",
       "    .dataframe thead th {\n",
       "        text-align: right;\n",
       "    }\n",
       "</style>\n",
       "<table border=\"1\" class=\"dataframe\">\n",
       "  <thead>\n",
       "    <tr style=\"text-align: right;\">\n",
       "      <th></th>\n",
       "      <th>one</th>\n",
       "      <th>two</th>\n",
       "      <th>three</th>\n",
       "      <th>four</th>\n",
       "    </tr>\n",
       "  </thead>\n",
       "  <tbody>\n",
       "    <tr>\n",
       "      <th>0</th>\n",
       "      <td>0</td>\n",
       "      <td>1</td>\n",
       "      <td>2</td>\n",
       "      <td>3</td>\n",
       "    </tr>\n",
       "    <tr>\n",
       "      <th>1</th>\n",
       "      <td>4</td>\n",
       "      <td>5</td>\n",
       "      <td>6</td>\n",
       "      <td>7</td>\n",
       "    </tr>\n",
       "    <tr>\n",
       "      <th>2</th>\n",
       "      <td>8</td>\n",
       "      <td>9</td>\n",
       "      <td>10</td>\n",
       "      <td>11</td>\n",
       "    </tr>\n",
       "  </tbody>\n",
       "</table>\n",
       "</div>"
      ],
      "text/plain": [
       "   one  two  three  four\n",
       "0    0    1      2     3\n",
       "1    4    5      6     7\n",
       "2    8    9     10    11"
      ]
     },
     "execution_count": 126,
     "metadata": {},
     "output_type": "execute_result"
    }
   ],
   "source": [
    "df"
   ]
  },
  {
   "cell_type": "code",
   "execution_count": 128,
   "metadata": {},
   "outputs": [
    {
     "data": {
      "text/plain": [
       "0    1\n",
       "1    1\n",
       "2    1\n",
       "dtype: int32"
      ]
     },
     "execution_count": 128,
     "metadata": {},
     "output_type": "execute_result"
    }
   ],
   "source": [
    "df.apply(lambda row:row['two']-row['one'],axis=1)"
   ]
  },
  {
   "attachments": {},
   "cell_type": "markdown",
   "metadata": {},
   "source": [
    "#### 直接作用于某一行"
   ]
  },
  {
   "cell_type": "code",
   "execution_count": 120,
   "metadata": {},
   "outputs": [
    {
     "data": {
      "text/plain": [
       "one      4\n",
       "two      5\n",
       "three    6\n",
       "four     7\n",
       "Name: 1, dtype: int32"
      ]
     },
     "execution_count": 120,
     "metadata": {},
     "output_type": "execute_result"
    }
   ],
   "source": [
    "df.iloc[1]"
   ]
  },
  {
   "cell_type": "code",
   "execution_count": 119,
   "metadata": {},
   "outputs": [
    {
     "data": {
      "text/plain": [
       "one      16\n",
       "two      25\n",
       "three    36\n",
       "four     49\n",
       "Name: 1, dtype: int64"
      ]
     },
     "execution_count": 119,
     "metadata": {},
     "output_type": "execute_result"
    }
   ],
   "source": [
    "df.iloc[1].apply(lambda x : x**2)"
   ]
  },
  {
   "attachments": {},
   "cell_type": "markdown",
   "metadata": {},
   "source": [
    "### applymap\n",
    "DataFrame.applymap(func, na_action=None, **kwargs)\n",
    "|参数|解释|\n",
    "|:---|:---|\n",
    "|func|函数|\n",
    "|na_action|若为None或ignore,func不会作用于空值,默认为None|\n",
    "|**kwargs|作为关键字参数传递给func的其他关键字参数|"
   ]
  },
  {
   "attachments": {},
   "cell_type": "markdown",
   "metadata": {},
   "source": [
    "#### 直接变换"
   ]
  },
  {
   "cell_type": "code",
   "execution_count": 97,
   "metadata": {},
   "outputs": [
    {
     "data": {
      "text/html": [
       "<div>\n",
       "<style scoped>\n",
       "    .dataframe tbody tr th:only-of-type {\n",
       "        vertical-align: middle;\n",
       "    }\n",
       "\n",
       "    .dataframe tbody tr th {\n",
       "        vertical-align: top;\n",
       "    }\n",
       "\n",
       "    .dataframe thead th {\n",
       "        text-align: right;\n",
       "    }\n",
       "</style>\n",
       "<table border=\"1\" class=\"dataframe\">\n",
       "  <thead>\n",
       "    <tr style=\"text-align: right;\">\n",
       "      <th></th>\n",
       "      <th>0</th>\n",
       "      <th>1</th>\n",
       "    </tr>\n",
       "  </thead>\n",
       "  <tbody>\n",
       "    <tr>\n",
       "      <th>0</th>\n",
       "      <td>1.000</td>\n",
       "      <td>2.120</td>\n",
       "    </tr>\n",
       "    <tr>\n",
       "      <th>1</th>\n",
       "      <td>3.356</td>\n",
       "      <td>4.567</td>\n",
       "    </tr>\n",
       "  </tbody>\n",
       "</table>\n",
       "</div>"
      ],
      "text/plain": [
       "       0      1\n",
       "0  1.000  2.120\n",
       "1  3.356  4.567"
      ]
     },
     "execution_count": 97,
     "metadata": {},
     "output_type": "execute_result"
    }
   ],
   "source": [
    "df = pd.DataFrame([[1, 2.12], [3.356, 4.567]])\n",
    "df"
   ]
  },
  {
   "cell_type": "code",
   "execution_count": 96,
   "metadata": {},
   "outputs": [
    {
     "data": {
      "text/html": [
       "<div>\n",
       "<style scoped>\n",
       "    .dataframe tbody tr th:only-of-type {\n",
       "        vertical-align: middle;\n",
       "    }\n",
       "\n",
       "    .dataframe tbody tr th {\n",
       "        vertical-align: top;\n",
       "    }\n",
       "\n",
       "    .dataframe thead th {\n",
       "        text-align: right;\n",
       "    }\n",
       "</style>\n",
       "<table border=\"1\" class=\"dataframe\">\n",
       "  <thead>\n",
       "    <tr style=\"text-align: right;\">\n",
       "      <th></th>\n",
       "      <th>0</th>\n",
       "      <th>1</th>\n",
       "    </tr>\n",
       "  </thead>\n",
       "  <tbody>\n",
       "    <tr>\n",
       "      <th>0</th>\n",
       "      <td>3</td>\n",
       "      <td>4</td>\n",
       "    </tr>\n",
       "    <tr>\n",
       "      <th>1</th>\n",
       "      <td>5</td>\n",
       "      <td>5</td>\n",
       "    </tr>\n",
       "  </tbody>\n",
       "</table>\n",
       "</div>"
      ],
      "text/plain": [
       "   0  1\n",
       "0  3  4\n",
       "1  5  5"
      ]
     },
     "execution_count": 96,
     "metadata": {},
     "output_type": "execute_result"
    }
   ],
   "source": [
    "# 将df的换位每一个元素的长度;\n",
    "# 注意:字符串中,小数点也算作一个长度\n",
    "df.applymap(lambda x: len(str(x)))"
   ]
  },
  {
   "attachments": {},
   "cell_type": "markdown",
   "metadata": {},
   "source": [
    "#### 空值不替换"
   ]
  },
  {
   "cell_type": "code",
   "execution_count": 107,
   "metadata": {},
   "outputs": [
    {
     "data": {
      "text/html": [
       "<div>\n",
       "<style scoped>\n",
       "    .dataframe tbody tr th:only-of-type {\n",
       "        vertical-align: middle;\n",
       "    }\n",
       "\n",
       "    .dataframe tbody tr th {\n",
       "        vertical-align: top;\n",
       "    }\n",
       "\n",
       "    .dataframe thead th {\n",
       "        text-align: right;\n",
       "    }\n",
       "</style>\n",
       "<table border=\"1\" class=\"dataframe\">\n",
       "  <thead>\n",
       "    <tr style=\"text-align: right;\">\n",
       "      <th></th>\n",
       "      <th>0</th>\n",
       "      <th>1</th>\n",
       "    </tr>\n",
       "  </thead>\n",
       "  <tbody>\n",
       "    <tr>\n",
       "      <th>0</th>\n",
       "      <td>&lt;NA&gt;</td>\n",
       "      <td>4</td>\n",
       "    </tr>\n",
       "    <tr>\n",
       "      <th>1</th>\n",
       "      <td>5</td>\n",
       "      <td>5</td>\n",
       "    </tr>\n",
       "  </tbody>\n",
       "</table>\n",
       "</div>"
      ],
      "text/plain": [
       "      0  1\n",
       "0  <NA>  4\n",
       "1     5  5"
      ]
     },
     "execution_count": 107,
     "metadata": {},
     "output_type": "execute_result"
    }
   ],
   "source": [
    "df_copy = df.copy()\n",
    "df_copy.iloc[0, 0] = pd.NA\n",
    "df_copy.applymap(lambda x: len(str(x)), na_action='ignore')"
   ]
  },
  {
   "attachments": {},
   "cell_type": "markdown",
   "metadata": {},
   "source": [
    "### 数据映射map"
   ]
  },
  {
   "cell_type": "code",
   "execution_count": 131,
   "metadata": {},
   "outputs": [
    {
     "data": {
      "text/html": [
       "<div>\n",
       "<style scoped>\n",
       "    .dataframe tbody tr th:only-of-type {\n",
       "        vertical-align: middle;\n",
       "    }\n",
       "\n",
       "    .dataframe tbody tr th {\n",
       "        vertical-align: top;\n",
       "    }\n",
       "\n",
       "    .dataframe thead th {\n",
       "        text-align: right;\n",
       "    }\n",
       "</style>\n",
       "<table border=\"1\" class=\"dataframe\">\n",
       "  <thead>\n",
       "    <tr style=\"text-align: right;\">\n",
       "      <th></th>\n",
       "      <th>one</th>\n",
       "      <th>two</th>\n",
       "      <th>three</th>\n",
       "      <th>four</th>\n",
       "      <th>five</th>\n",
       "    </tr>\n",
       "  </thead>\n",
       "  <tbody>\n",
       "    <tr>\n",
       "      <th>0</th>\n",
       "      <td>0</td>\n",
       "      <td>1</td>\n",
       "      <td>2</td>\n",
       "      <td>3</td>\n",
       "      <td>kyb</td>\n",
       "    </tr>\n",
       "    <tr>\n",
       "      <th>1</th>\n",
       "      <td>4</td>\n",
       "      <td>5</td>\n",
       "      <td>6</td>\n",
       "      <td>7</td>\n",
       "      <td>kyb2</td>\n",
       "    </tr>\n",
       "    <tr>\n",
       "      <th>2</th>\n",
       "      <td>8</td>\n",
       "      <td>9</td>\n",
       "      <td>10</td>\n",
       "      <td>11</td>\n",
       "      <td>kyb3</td>\n",
       "    </tr>\n",
       "  </tbody>\n",
       "</table>\n",
       "</div>"
      ],
      "text/plain": [
       "   one  two  three  four  five\n",
       "0    0    1      2     3   kyb\n",
       "1    4    5      6     7  kyb2\n",
       "2    8    9     10    11  kyb3"
      ]
     },
     "execution_count": 131,
     "metadata": {},
     "output_type": "execute_result"
    }
   ],
   "source": [
    "df['five'] = ['kyb','kyb2','kyb3']\n",
    "df"
   ]
  },
  {
   "cell_type": "code",
   "execution_count": 133,
   "metadata": {},
   "outputs": [
    {
     "data": {
      "text/plain": [
       "0     Kyb\n",
       "1    Kyb2\n",
       "2    Kyb3\n",
       "Name: five, dtype: object"
      ]
     },
     "execution_count": 133,
     "metadata": {},
     "output_type": "execute_result"
    }
   ],
   "source": [
    "# five列首字母大写\n",
    "df['five'].map(str.title)"
   ]
  },
  {
   "attachments": {},
   "cell_type": "markdown",
   "metadata": {},
   "source": [
    "### 数据转换transform\n",
    "只可作用于一列 不能两列"
   ]
  },
  {
   "cell_type": "code",
   "execution_count": 134,
   "metadata": {},
   "outputs": [
    {
     "data": {
      "text/plain": [
       "0    1\n",
       "1    5\n",
       "2    9\n",
       "Name: one, dtype: int64"
      ]
     },
     "execution_count": 134,
     "metadata": {},
     "output_type": "execute_result"
    }
   ],
   "source": [
    "# 作用于一列\n",
    "df['one'].transform(lambda x:x+1)"
   ]
  },
  {
   "cell_type": "code",
   "execution_count": 135,
   "metadata": {},
   "outputs": [
    {
     "data": {
      "text/html": [
       "<div>\n",
       "<style scoped>\n",
       "    .dataframe tbody tr th:only-of-type {\n",
       "        vertical-align: middle;\n",
       "    }\n",
       "\n",
       "    .dataframe tbody tr th {\n",
       "        vertical-align: top;\n",
       "    }\n",
       "\n",
       "    .dataframe thead th {\n",
       "        text-align: right;\n",
       "    }\n",
       "</style>\n",
       "<table border=\"1\" class=\"dataframe\">\n",
       "  <thead>\n",
       "    <tr style=\"text-align: right;\">\n",
       "      <th></th>\n",
       "      <th>sin</th>\n",
       "      <th>cos</th>\n",
       "    </tr>\n",
       "  </thead>\n",
       "  <tbody>\n",
       "    <tr>\n",
       "      <th>0</th>\n",
       "      <td>0.000000</td>\n",
       "      <td>1.000000</td>\n",
       "    </tr>\n",
       "    <tr>\n",
       "      <th>1</th>\n",
       "      <td>-0.756802</td>\n",
       "      <td>-0.653644</td>\n",
       "    </tr>\n",
       "    <tr>\n",
       "      <th>2</th>\n",
       "      <td>0.989358</td>\n",
       "      <td>-0.145500</td>\n",
       "    </tr>\n",
       "  </tbody>\n",
       "</table>\n",
       "</div>"
      ],
      "text/plain": [
       "        sin       cos\n",
       "0  0.000000  1.000000\n",
       "1 -0.756802 -0.653644\n",
       "2  0.989358 -0.145500"
      ]
     },
     "execution_count": 135,
     "metadata": {},
     "output_type": "execute_result"
    }
   ],
   "source": [
    "# 可以是func列表\n",
    "df['one'].transform([np.sin,np.cos])"
   ]
  },
  {
   "attachments": {},
   "cell_type": "markdown",
   "metadata": {},
   "source": [
    "## 数据预处理"
   ]
  },
  {
   "attachments": {},
   "cell_type": "markdown",
   "metadata": {},
   "source": [
    "### 缺失值"
   ]
  },
  {
   "attachments": {},
   "cell_type": "markdown",
   "metadata": {},
   "source": [
    "#### 查看缺失值"
   ]
  },
  {
   "attachments": {},
   "cell_type": "markdown",
   "metadata": {},
   "source": [
    "#### 填充缺失值"
   ]
  },
  {
   "attachments": {},
   "cell_type": "markdown",
   "metadata": {},
   "source": [
    "### 异常值"
   ]
  },
  {
   "attachments": {},
   "cell_type": "markdown",
   "metadata": {},
   "source": [
    "#### 查看异常值"
   ]
  },
  {
   "attachments": {},
   "cell_type": "markdown",
   "metadata": {},
   "source": [
    "#### 处理异常值"
   ]
  },
  {
   "attachments": {},
   "cell_type": "markdown",
   "metadata": {},
   "source": [
    "## 数据分组"
   ]
  },
  {
   "cell_type": "code",
   "execution_count": 2,
   "metadata": {},
   "outputs": [],
   "source": [
    "import pandas as pd"
   ]
  },
  {
   "attachments": {},
   "cell_type": "markdown",
   "metadata": {},
   "source": [
    "### 导入数据"
   ]
  },
  {
   "cell_type": "code",
   "execution_count": 20,
   "metadata": {},
   "outputs": [
    {
     "data": {
      "text/html": [
       "<div>\n",
       "<style scoped>\n",
       "    .dataframe tbody tr th:only-of-type {\n",
       "        vertical-align: middle;\n",
       "    }\n",
       "\n",
       "    .dataframe tbody tr th {\n",
       "        vertical-align: top;\n",
       "    }\n",
       "\n",
       "    .dataframe thead th {\n",
       "        text-align: right;\n",
       "    }\n",
       "</style>\n",
       "<table border=\"1\" class=\"dataframe\">\n",
       "  <thead>\n",
       "    <tr style=\"text-align: right;\">\n",
       "      <th></th>\n",
       "      <th>学年学期</th>\n",
       "      <th>课程名</th>\n",
       "      <th>总成绩</th>\n",
       "      <th>课程类别</th>\n",
       "      <th>课程性质</th>\n",
       "      <th>学分</th>\n",
       "      <th>学时</th>\n",
       "      <th>是否主修</th>\n",
       "      <th>考试日期</th>\n",
       "      <th>绩点</th>\n",
       "      <th>重修重考</th>\n",
       "      <th>等级成绩类型</th>\n",
       "      <th>开课单位</th>\n",
       "    </tr>\n",
       "  </thead>\n",
       "  <tbody>\n",
       "    <tr>\n",
       "      <th>0</th>\n",
       "      <td>2021-2022学年 第一学期</td>\n",
       "      <td>英语应用能力训练与提高（雅思）</td>\n",
       "      <td>70.0</td>\n",
       "      <td>通识选修</td>\n",
       "      <td>选修课</td>\n",
       "      <td>2.0</td>\n",
       "      <td>30.0</td>\n",
       "      <td>是</td>\n",
       "      <td>2022-03-18</td>\n",
       "      <td>2.0</td>\n",
       "      <td>初修</td>\n",
       "      <td>百分制</td>\n",
       "      <td>校际</td>\n",
       "    </tr>\n",
       "    <tr>\n",
       "      <th>1</th>\n",
       "      <td>2020-2021学年 小学期</td>\n",
       "      <td>军训</td>\n",
       "      <td>95.0</td>\n",
       "      <td>其他类</td>\n",
       "      <td>必修课</td>\n",
       "      <td>2.0</td>\n",
       "      <td>80.0</td>\n",
       "      <td>是</td>\n",
       "      <td>2021-07-11</td>\n",
       "      <td>4.5</td>\n",
       "      <td>初修</td>\n",
       "      <td>五级制</td>\n",
       "      <td>学生处</td>\n",
       "    </tr>\n",
       "    <tr>\n",
       "      <th>2</th>\n",
       "      <td>2020-2021学年 第一学期</td>\n",
       "      <td>C语言程序设计A</td>\n",
       "      <td>90.0</td>\n",
       "      <td>通识理论必修</td>\n",
       "      <td>必修课</td>\n",
       "      <td>4.0</td>\n",
       "      <td>64.0</td>\n",
       "      <td>是</td>\n",
       "      <td>2020-12-21</td>\n",
       "      <td>4.0</td>\n",
       "      <td>初修</td>\n",
       "      <td>百分制</td>\n",
       "      <td>计算中心</td>\n",
       "    </tr>\n",
       "    <tr>\n",
       "      <th>3</th>\n",
       "      <td>2020-2021学年 第一学期</td>\n",
       "      <td>大学生安全知识教育</td>\n",
       "      <td>86.0</td>\n",
       "      <td>其他类</td>\n",
       "      <td>必修课</td>\n",
       "      <td>1.0</td>\n",
       "      <td>20.0</td>\n",
       "      <td>是</td>\n",
       "      <td>2020-12-21</td>\n",
       "      <td>3.6</td>\n",
       "      <td>初修</td>\n",
       "      <td>百分制</td>\n",
       "      <td>安稳处</td>\n",
       "    </tr>\n",
       "  </tbody>\n",
       "</table>\n",
       "</div>"
      ],
      "text/plain": [
       "               学年学期              课程名   总成绩    课程类别 课程性质   学分    学时 是否主修  \\\n",
       "0  2021-2022学年 第一学期  英语应用能力训练与提高（雅思）  70.0    通识选修  选修课  2.0  30.0    是   \n",
       "1   2020-2021学年 小学期               军训  95.0     其他类  必修课  2.0  80.0    是   \n",
       "2  2020-2021学年 第一学期         C语言程序设计A  90.0  通识理论必修  必修课  4.0  64.0    是   \n",
       "3  2020-2021学年 第一学期        大学生安全知识教育  86.0     其他类  必修课  1.0  20.0    是   \n",
       "\n",
       "         考试日期   绩点 重修重考 等级成绩类型  开课单位  \n",
       "0  2022-03-18  2.0   初修    百分制    校际  \n",
       "1  2021-07-11  4.5   初修    五级制   学生处  \n",
       "2  2020-12-21  4.0   初修    百分制  计算中心  \n",
       "3  2020-12-21  3.6   初修    百分制   安稳处  "
      ]
     },
     "execution_count": 20,
     "metadata": {},
     "output_type": "execute_result"
    }
   ],
   "source": [
    "data = pd.read_excel('score.xlsx')\n",
    "data.head(4)"
   ]
  },
  {
   "attachments": {},
   "cell_type": "markdown",
   "metadata": {},
   "source": [
    "### 查看某一列有哪些字段\n",
    "unique"
   ]
  },
  {
   "cell_type": "code",
   "execution_count": 5,
   "metadata": {},
   "outputs": [
    {
     "data": {
      "text/plain": [
       "array(['选修课', '必修课'], dtype=object)"
      ]
     },
     "execution_count": 5,
     "metadata": {},
     "output_type": "execute_result"
    }
   ],
   "source": [
    "data.课程性质.unique()"
   ]
  },
  {
   "cell_type": "code",
   "execution_count": 6,
   "metadata": {},
   "outputs": [
    {
     "data": {
      "text/plain": [
       "array(['校际', '学生处', '计算中心', '安稳处', '体育部', '外国语学院', '马克思主义学院', '理学院',\n",
       "       '信息管理学院', '经济管理学院', '信息与通信工程学院', '计算机学院'], dtype=object)"
      ]
     },
     "execution_count": 6,
     "metadata": {},
     "output_type": "execute_result"
    }
   ],
   "source": [
    "data.开课单位.unique()"
   ]
  },
  {
   "cell_type": "code",
   "execution_count": 7,
   "metadata": {},
   "outputs": [
    {
     "data": {
      "text/plain": [
       "array(['2021-2022学年 第一学期', '2020-2021学年 小学期', '2020-2021学年 第一学期',\n",
       "       '2020-2021学年 第二学期', '2021-2022学年 第二学期', '2021-2022学年 小学期',\n",
       "       '2022-2023学年 第一学期'], dtype=object)"
      ]
     },
     "execution_count": 7,
     "metadata": {},
     "output_type": "execute_result"
    }
   ],
   "source": [
    "data.学年学期.unique()"
   ]
  },
  {
   "attachments": {},
   "cell_type": "markdown",
   "metadata": {},
   "source": [
    "### 统计某一列字段的数量\n",
    "value_counts"
   ]
  },
  {
   "cell_type": "code",
   "execution_count": 8,
   "metadata": {},
   "outputs": [
    {
     "data": {
      "text/plain": [
       "信息管理学院       28\n",
       "马克思主义学院      12\n",
       "外国语学院         6\n",
       "理学院           5\n",
       "学生处           4\n",
       "体育部           4\n",
       "校际            2\n",
       "计算机学院         2\n",
       "计算中心          1\n",
       "安稳处           1\n",
       "经济管理学院        1\n",
       "信息与通信工程学院     1\n",
       "Name: 开课单位, dtype: int64"
      ]
     },
     "execution_count": 8,
     "metadata": {},
     "output_type": "execute_result"
    }
   ],
   "source": [
    "data['开课单位'].value_counts()"
   ]
  },
  {
   "attachments": {},
   "cell_type": "markdown",
   "metadata": {},
   "source": [
    "### 分组groupby"
   ]
  },
  {
   "attachments": {},
   "cell_type": "markdown",
   "metadata": {},
   "source": [
    "#### 按照一个字段分"
   ]
  },
  {
   "cell_type": "code",
   "execution_count": 22,
   "metadata": {},
   "outputs": [],
   "source": [
    "data1 = data.groupby(['开课单位'])"
   ]
  },
  {
   "attachments": {},
   "cell_type": "markdown",
   "metadata": {},
   "source": [
    "#### 按照多个key进行分组"
   ]
  },
  {
   "cell_type": "code",
   "execution_count": 23,
   "metadata": {},
   "outputs": [],
   "source": [
    "data2 = data.groupby(['开课单位','课程类别'])"
   ]
  },
  {
   "attachments": {},
   "cell_type": "markdown",
   "metadata": {},
   "source": [
    "#### 查看分组结果"
   ]
  },
  {
   "cell_type": "code",
   "execution_count": 25,
   "metadata": {},
   "outputs": [
    {
     "name": "stdout",
     "output_type": "stream",
     "text": [
      "(('体育部', '通识理论必修'),                 学年学期      课程名   总成绩    课程类别 课程性质   学分    学时 是否主修        考试日期  \\\n",
      "5   2020-2021学年 第一学期  大学体育(1)  73.0  通识理论必修  必修课  1.0  32.0    是  2020-12-21   \n",
      "23  2020-2021学年 第二学期  大学体育(2)  87.0  通识理论必修  必修课  1.0  32.0    是  2021-06-01   \n",
      "34  2021-2022学年 第一学期  大学体育(3)  82.0  通识理论必修  必修课  1.0  32.0    是  2021-11-01   \n",
      "45  2021-2022学年 第二学期  大学体育(4)  93.0  通识理论必修  必修课  1.0  32.0    是  2022-05-02   \n",
      "\n",
      "     绩点 重修重考 等级成绩类型 开课单位  \n",
      "5   2.3   初修    百分制  体育部  \n",
      "23  3.7   初修    百分制  体育部  \n",
      "34  3.2   初修    百分制  体育部  \n",
      "45  4.3   初修    百分制  体育部  )\n",
      "(('信息与通信工程学院', '通识选修'),                 学年学期        课程名   总成绩  课程类别 课程性质   学分    学时 是否主修        考试日期  \\\n",
      "22  2020-2021学年 第二学期  物联网与工业4.0  88.0  通识选修  选修课  2.0  32.0    是  2021-06-01   \n",
      "\n",
      "     绩点 重修重考 等级成绩类型       开课单位  \n",
      "22  3.8   初修    百分制  信息与通信工程学院  )\n",
      "(('信息管理学院', '专业实践必修'),                 学年学期             课程名   总成绩    课程类别 课程性质   学分  学时 是否主修  \\\n",
      "56   2021-2022学年 小学期  Python数据分析基础实践  95.0  专业实践必修  必修课  2.0 NaN    是   \n",
      "61  2022-2023学年 第一学期       数据采集与处理实践  95.0  专业实践必修  必修课  1.0 NaN    是   \n",
      "\n",
      "          考试日期   绩点 重修重考 等级成绩类型    开课单位  \n",
      "56  2022-06-21  4.5   初修    百分制  信息管理学院  \n",
      "61  2022-11-07  4.5   初修    五级制  信息管理学院  )\n",
      "(('信息管理学院', '专业理论必修'),                 学年学期           课程名   总成绩    课程类别 课程性质   学分    学时 是否主修  \\\n",
      "47  2021-2022学年 第二学期  Python数据分析基础  90.0  专业理论必修  必修课  2.5  40.0    是   \n",
      "49  2021-2022学年 第二学期       大数据技术基础  87.0  专业理论必修  必修课  2.5  40.0    是   \n",
      "60  2022-2023学年 第一学期       数据采集与处理  92.0  专业理论必修  必修课  2.0  32.0    是   \n",
      "\n",
      "          考试日期   绩点 重修重考 等级成绩类型    开课单位  \n",
      "47  2022-05-02  4.0   初修    百分制  信息管理学院  \n",
      "49  2022-06-16  3.7   初修    百分制  信息管理学院  \n",
      "60  2022-12-05  4.2   初修    百分制  信息管理学院  )\n",
      "(('信息管理学院', '专业理论选修'),                 学年学期        课程名   总成绩    课程类别 课程性质   学分    学时 是否主修  \\\n",
      "42  2021-2022学年 第二学期       系统工程  93.0  专业理论选修  选修课  2.0  32.0    是   \n",
      "43  2021-2022学年 第二学期     生产运作管理  73.0  专业理论选修  选修课  2.5  40.0    是   \n",
      "62  2022-2023学年 第一学期  大数据营销(双语)  97.0  专业理论选修  选修课  2.0  32.0    是   \n",
      "\n",
      "          考试日期   绩点 重修重考 等级成绩类型    开课单位  \n",
      "42  2022-05-02  4.3   初修    百分制  信息管理学院  \n",
      "43  2022-05-02  2.3   初修    百分制  信息管理学院  \n",
      "62  2022-11-07  4.7   初修    百分制  信息管理学院  )\n",
      "(('信息管理学院', '其他类'),                 学年学期 课程名   总成绩 课程类别 课程性质   学分    学时 是否主修        考试日期   绩点  \\\n",
      "50  2021-2022学年 第二学期  劳动  95.0  其他类  必修课  1.0  32.0    是  2022-05-02  4.5   \n",
      "\n",
      "   重修重考 等级成绩类型    开课单位  \n",
      "50   初修    五级制  信息管理学院  )\n",
      "(('信息管理学院', '大数据辅修'),                 学年学期     课程名   总成绩   课程类别 课程性质   学分    学时 是否主修        考试日期  \\\n",
      "59  2022-2023学年 第一学期  大数据可视化  85.0  大数据辅修  选修课  1.0  16.0    否  2022-11-07   \n",
      "\n",
      "     绩点 重修重考 等级成绩类型    开课单位  \n",
      "59  3.5   初修    五级制  信息管理学院  )\n",
      "(('信息管理学院', '学科实践必修'),                 学年学期               课程名   总成绩    课程类别 课程性质   学分  学时 是否主修  \\\n",
      "25   2020-2021学年 小学期  面向对象程序设计实践(Java)  96.0  学科实践必修  必修课  2.0 NaN    是   \n",
      "29  2021-2022学年 第一学期     操作系统(Linux)实践  95.0  学科实践必修  必修课  1.0 NaN    是   \n",
      "38  2021-2022学年 第一学期            数据结构实践  95.0  学科实践必修  必修课  1.0 NaN    是   \n",
      "41  2021-2022学年 第二学期             数据库设计  85.0  学科实践必修  必修课  1.0 NaN    是   \n",
      "58  2021-2022学年 第二学期           管理统计学实践  95.0  学科实践必修  必修课  1.0 NaN    是   \n",
      "64  2022-2023学年 第一学期           计算机网络实践  95.0  学科实践必修  必修课  1.0 NaN    是   \n",
      "\n",
      "          考试日期   绩点 重修重考 等级成绩类型    开课单位  \n",
      "25  2021-07-11  4.6   初修    百分制  信息管理学院  \n",
      "29  2021-11-01  4.5   初修    五级制  信息管理学院  \n",
      "38  2021-11-01  4.5   初修    五级制  信息管理学院  \n",
      "41  2022-05-02  3.5   初修    五级制  信息管理学院  \n",
      "58  2022-05-02  4.5   初修    百分制  信息管理学院  \n",
      "64  2022-11-07  4.5   初修    五级制  信息管理学院  )\n",
      "(('信息管理学院', '学科理论必修'),                 学年学期             课程名   总成绩    课程类别 课程性质   学分    学时 是否主修  \\\n",
      "9   2020-2021学年 第一学期           管理学原理  96.0  学科理论必修  必修课  3.0  48.0    是   \n",
      "13  2020-2021学年 第一学期            专业导论  88.0  学科理论必修  必修课  1.0  16.0    是   \n",
      "19  2020-2021学年 第二学期  面向对象程序设计(Java)  92.0  学科理论必修  必修课  4.0  64.0    是   \n",
      "27  2021-2022学年 第一学期     操作系统(Linux)  91.0  学科理论必修  必修课  2.0  32.0    是   \n",
      "36  2021-2022学年 第一学期           微观经济学  88.0  学科理论必修  必修课  3.5  56.0    是   \n",
      "39  2021-2022学年 第一学期      数据结构(Java)  92.0  学科理论必修  必修课  4.0  64.0    是   \n",
      "44  2021-2022学年 第二学期           宏观经济学  88.0  学科理论必修  必修课  2.5  40.0    是   \n",
      "46  2021-2022学年 第二学期            运筹学I  87.0  学科理论必修  必修课  4.0  64.0    是   \n",
      "52  2021-2022学年 第二学期         数据库系统基础  84.0  学科理论必修  必修课  3.5  56.0    是   \n",
      "54  2021-2022学年 第二学期           管理统计学  86.0  学科理论必修  必修课  3.0  48.0    是   \n",
      "63  2022-2023学年 第一学期         预测方法与技术  88.0  学科理论必修  必修课  2.5  40.0    是   \n",
      "65  2022-2023学年 第一学期           计算机网络  90.0  学科理论必修  必修课  2.5  40.0    是   \n",
      "\n",
      "          考试日期   绩点 重修重考 等级成绩类型    开课单位  \n",
      "9   2020-12-21  4.6   初修    百分制  信息管理学院  \n",
      "13  2020-12-21  3.8   初修    百分制  信息管理学院  \n",
      "19  2021-06-22  4.2   初修    百分制  信息管理学院  \n",
      "27  2021-12-10  4.1   初修    百分制  信息管理学院  \n",
      "36  2022-01-04  3.8   初修    百分制  信息管理学院  \n",
      "39  2022-01-14  4.2   初修    百分制  信息管理学院  \n",
      "44  2022-06-14  3.8   初修    百分制  信息管理学院  \n",
      "46  2022-06-17  3.7   初修    百分制  信息管理学院  \n",
      "52  2022-06-13  3.4   初修    百分制  信息管理学院  \n",
      "54  2022-06-17  3.6   初修    百分制  信息管理学院  \n",
      "63  2022-12-12  3.8   初修    百分制  信息管理学院  \n",
      "65  2022-12-13  4.0   初修    百分制  信息管理学院  )\n",
      "(('外国语学院', '通识理论必修'),                 学年学期      课程名   总成绩    课程类别 课程性质   学分    学时 是否主修        考试日期  \\\n",
      "6   2020-2021学年 第一学期  大学英语(3)  90.0  通识理论必修  必修课  4.0  64.0    是  2020-12-21   \n",
      "21  2020-2021学年 第二学期  大学英语(4)  80.0  通识理论必修  必修课  4.0  64.0    是  2021-06-23   \n",
      "30  2021-2022学年 第一学期   高级英语听说  97.0  通识理论必修  必修课  2.0  32.0    是  2021-11-01   \n",
      "55  2021-2022学年 第二学期     学术英语  98.0  通识理论必修  必修课  2.0  32.0    是  2022-06-15   \n",
      "\n",
      "     绩点 重修重考 等级成绩类型   开课单位  \n",
      "6   4.0   初修    百分制  外国语学院  \n",
      "21  3.0   初修    百分制  外国语学院  \n",
      "30  4.7   初修    百分制  外国语学院  \n",
      "55  4.8   初修    百分制  外国语学院  )\n",
      "(('外国语学院', '通识选修'),                 学年学期   课程名  总成绩  课程类别 课程性质   学分    学时 是否主修        考试日期   绩点  \\\n",
      "16  2020-2021学年 第二学期  英语四级  0.0  通识选修  选修课  2.0  32.0    是  2021-06-01  0.0   \n",
      "28  2021-2022学年 第一学期  英语四级  0.0  通识选修  选修课  2.0  32.0    是  2021-11-01  0.0   \n",
      "\n",
      "   重修重考 等级成绩类型   开课单位  \n",
      "16   初修    百分制  外国语学院  \n",
      "28   重修    百分制  外国语学院  )\n",
      "(('学生处', '其他类'),                 学年学期      课程名   总成绩 课程类别 课程性质   学分    学时 是否主修        考试日期  \\\n",
      "1    2020-2021学年 小学期       军训  95.0  其他类  必修课  2.0  80.0    是  2021-07-11   \n",
      "4   2020-2021学年 第一学期  大学生心理健康  98.0  其他类  必修课  2.0  32.0    是  2020-12-21   \n",
      "17  2020-2021学年 第二学期  大学生职业规划  99.0  其他类  必修课  1.0  24.0    是  2021-06-01   \n",
      "35  2021-2022学年 第一学期     军事理论  98.0  其他类  必修课  2.0  32.0    是  2021-11-01   \n",
      "\n",
      "     绩点 重修重考 等级成绩类型 开课单位  \n",
      "1   4.5   初修    五级制  学生处  \n",
      "4   4.8   初修    百分制  学生处  \n",
      "17  4.9   初修    百分制  学生处  \n",
      "35  4.8   初修    百分制  学生处  )\n",
      "(('安稳处', '其他类'),                学年学期        课程名   总成绩 课程类别 课程性质   学分    学时 是否主修        考试日期  \\\n",
      "3  2020-2021学年 第一学期  大学生安全知识教育  86.0  其他类  必修课  1.0  20.0    是  2020-12-21   \n",
      "\n",
      "    绩点 重修重考 等级成绩类型 开课单位  \n",
      "3  3.6   初修    百分制  安稳处  )\n",
      "(('校际', '通识选修'),                 学年学期              课程名   总成绩  课程类别 课程性质   学分    学时 是否主修  \\\n",
      "0   2021-2022学年 第一学期  英语应用能力训练与提高（雅思）  70.0  通识选修  选修课  2.0  30.0    是   \n",
      "66  2020-2021学年 第二学期            健康免疫学  90.0  通识选修  选修课  1.5  24.0    是   \n",
      "\n",
      "          考试日期   绩点 重修重考 等级成绩类型 开课单位  \n",
      "0   2022-03-18  2.0   初修    百分制   校际  \n",
      "66  2021-06-01  4.0   初修    百分制   校际  )\n",
      "(('理学院', '学科理论必修'),                 学年学期        课程名   总成绩    课程类别 课程性质   学分    学时 是否主修  \\\n",
      "15  2020-2021学年 第二学期      线性代数A  88.0  学科理论必修  必修课  3.0  48.0    是   \n",
      "32  2021-2022学年 第一学期  概率论与数理统计A  85.0  学科理论必修  必修课  3.0  48.0    是   \n",
      "\n",
      "          考试日期   绩点 重修重考 等级成绩类型 开课单位  \n",
      "15  2021-06-25  3.8   初修    百分制  理学院  \n",
      "32  2022-01-07  3.5   初修    百分制  理学院  )\n",
      "(('理学院', '通识理论必修'),                 学年学期       课程名   总成绩    课程类别 课程性质   学分    学时 是否主修        考试日期  \\\n",
      "8   2020-2021学年 第一学期  高等数学A(1)  91.0  通识理论必修  必修课  6.0  96.0    是  2020-12-21   \n",
      "20  2020-2021学年 第二学期  高等数学A(2)  95.0  通识理论必修  必修课  5.0  80.0    是  2021-06-22   \n",
      "\n",
      "     绩点 重修重考 等级成绩类型 开课单位  \n",
      "8   4.1   初修    百分制  理学院  \n",
      "20  4.5   初修    百分制  理学院  )\n",
      "(('理学院', '通识选修'),                 学年学期   课程名   总成绩  课程类别 课程性质   学分    学时 是否主修        考试日期   绩点  \\\n",
      "48  2021-2022学年 第二学期  数学建模  62.0  通识选修  选修课  2.0  32.0    是  2022-05-02  1.2   \n",
      "\n",
      "   重修重考 等级成绩类型 开课单位  \n",
      "48   初修    百分制  理学院  )\n",
      "(('经济管理学院', '通识选修'),                 学年学期       课程名   总成绩  课程类别 课程性质   学分    学时 是否主修        考试日期  \\\n",
      "11  2020-2021学年 第一学期  现代企业管理概论  85.0  通识选修  选修课  1.5  24.0    是  2020-12-21   \n",
      "\n",
      "     绩点 重修重考 等级成绩类型    开课单位  \n",
      "11  3.5   初修    五级制  经济管理学院  )\n",
      "(('计算中心', '通识理论必修'),                学年学期       课程名   总成绩    课程类别 课程性质   学分    学时 是否主修        考试日期  \\\n",
      "2  2020-2021学年 第一学期  C语言程序设计A  90.0  通识理论必修  必修课  4.0  64.0    是  2020-12-21   \n",
      "\n",
      "    绩点 重修重考 等级成绩类型  开课单位  \n",
      "2  4.0   初修    百分制  计算中心  )\n",
      "(('计算机学院', '大数据辅修'),                 学年学期        课程名   总成绩   课程类别 课程性质   学分    学时 是否主修        考试日期  \\\n",
      "40  2021-2022学年 第二学期  大数据平台技术实践  33.0  大数据辅修  选修课  1.5  24.0    否  2022-05-02   \n",
      "51  2021-2022学年 第二学期      大数据概论   4.0  大数据辅修  选修课  2.0  32.0    否  2022-05-02   \n",
      "\n",
      "     绩点 重修重考 等级成绩类型   开课单位  \n",
      "40  0.0   初修    百分制  计算机学院  \n",
      "51  0.0   初修    百分制  计算机学院  )\n",
      "(('马克思主义学院', '其他类'),                 学年学期        课程名   总成绩 课程类别 课程性质   学分   学时 是否主修        考试日期  \\\n",
      "12  2020-2021学年 第一学期  形势与政策课(1)  89.0  其他类  必修课  0.0  8.0    是  2020-12-21   \n",
      "14  2020-2021学年 第二学期  形势与政策课(2)  87.0  其他类  必修课  0.0  8.0    是  2021-06-01   \n",
      "31  2021-2022学年 第一学期  形势与政策课(3)  97.0  其他类  必修课  0.0  8.0    是  2021-11-01   \n",
      "57  2021-2022学年 第二学期  形势与政策课(4)  94.0  其他类  必修课  0.0  8.0    是  2022-05-02   \n",
      "\n",
      "     绩点 重修重考 等级成绩类型     开课单位  \n",
      "12  3.9   初修    百分制  马克思主义学院  \n",
      "14  3.7   初修    百分制  马克思主义学院  \n",
      "31  4.7   初修    百分制  马克思主义学院  \n",
      "57  4.4   初修    百分制  马克思主义学院  )\n",
      "(('马克思主义学院', '通识实践必修'),                 学年学期          课程名   总成绩    课程类别 课程性质   学分  学时 是否主修  \\\n",
      "53  2021-2022学年 第二学期  思想政治理论课综合实践  97.0  通识实践必修  必修课  2.0 NaN    是   \n",
      "\n",
      "          考试日期   绩点 重修重考 等级成绩类型     开课单位  \n",
      "53  2022-05-02  4.7   初修    百分制  马克思主义学院  )\n",
      "(('马克思主义学院', '通识理论必修'),                 学年学期                   课程名   总成绩    课程类别 课程性质   学分    学时 是否主修  \\\n",
      "10  2020-2021学年 第一学期           思想道德修养与法律基础  97.0  通识理论必修  必修课  3.0  48.0    是   \n",
      "24  2020-2021学年 第二学期              中国近现代史纲要  88.0  通识理论必修  必修课  3.0  48.0    是   \n",
      "26  2020-2021学年 第二学期    习近平新时代中国特色社会主义思想概论  90.0  通识理论必修  必修课  2.0  32.0    是   \n",
      "33  2021-2022学年 第一学期  毛泽东思想和中国特色社会主义理论体系概论  96.0  通识理论必修  必修课  3.0  48.0    是   \n",
      "37  2021-2022学年 第一学期           马克思主义基本原理概论  93.0  通识理论必修  必修课  3.0  48.0    是   \n",
      "\n",
      "          考试日期   绩点 重修重考 等级成绩类型     开课单位  \n",
      "10  2020-12-21  4.7   初修    百分制  马克思主义学院  \n",
      "24  2021-06-23  3.8   初修    百分制  马克思主义学院  \n",
      "26  2021-06-01  4.0   初修    百分制  马克思主义学院  \n",
      "33  2022-01-08  4.6   初修    百分制  马克思主义学院  \n",
      "37  2022-01-04  4.3   初修    百分制  马克思主义学院  )\n",
      "(('马克思主义学院', '通识选修'),                 学年学期      课程名   总成绩  课程类别 课程性质   学分    学时 是否主修        考试日期  \\\n",
      "7   2020-2021学年 第一学期     二战简史  78.0  通识选修  选修课  1.5  24.0    是  2020-12-21   \n",
      "18  2020-2021学年 第二学期  房地产法律制度  90.0  通识选修  选修课  2.0  32.0    是  2021-06-01   \n",
      "\n",
      "     绩点 重修重考 等级成绩类型     开课单位  \n",
      "7   2.8   初修    百分制  马克思主义学院  \n",
      "18  4.0   初修    百分制  马克思主义学院  )\n"
     ]
    }
   ],
   "source": [
    "for i in data.groupby(['开课单位','课程类别']):\n",
    "\tprint(i)"
   ]
  },
  {
   "attachments": {},
   "cell_type": "markdown",
   "metadata": {},
   "source": [
    "#### 取分组元素"
   ]
  },
  {
   "attachments": {},
   "cell_type": "markdown",
   "metadata": {},
   "source": [
    "##### 方法一：先转为list，再下标取值"
   ]
  },
  {
   "cell_type": "code",
   "execution_count": 26,
   "metadata": {},
   "outputs": [
    {
     "data": {
      "text/plain": [
       "(('信息与通信工程学院', '通识选修'),\n",
       "                 学年学期        课程名   总成绩  课程类别 课程性质   学分    学时 是否主修        考试日期  \\\n",
       " 22  2020-2021学年 第二学期  物联网与工业4.0  88.0  通识选修  选修课  2.0  32.0    是  2021-06-01   \n",
       " \n",
       "      绩点 重修重考 等级成绩类型       开课单位  \n",
       " 22  3.8   初修    百分制  信息与通信工程学院  )"
      ]
     },
     "execution_count": 26,
     "metadata": {},
     "output_type": "execute_result"
    }
   ],
   "source": [
    "list(data.groupby(['开课单位','课程类别']))[1]"
   ]
  },
  {
   "attachments": {},
   "cell_type": "markdown",
   "metadata": {},
   "source": [
    "##### 方法二：先转为dict后取出相应的key值"
   ]
  },
  {
   "cell_type": "code",
   "execution_count": 34,
   "metadata": {},
   "outputs": [
    {
     "data": {
      "text/html": [
       "<div>\n",
       "<style scoped>\n",
       "    .dataframe tbody tr th:only-of-type {\n",
       "        vertical-align: middle;\n",
       "    }\n",
       "\n",
       "    .dataframe tbody tr th {\n",
       "        vertical-align: top;\n",
       "    }\n",
       "\n",
       "    .dataframe thead th {\n",
       "        text-align: right;\n",
       "    }\n",
       "</style>\n",
       "<table border=\"1\" class=\"dataframe\">\n",
       "  <thead>\n",
       "    <tr style=\"text-align: right;\">\n",
       "      <th></th>\n",
       "      <th>学年学期</th>\n",
       "      <th>课程名</th>\n",
       "      <th>总成绩</th>\n",
       "      <th>课程类别</th>\n",
       "      <th>课程性质</th>\n",
       "      <th>学分</th>\n",
       "      <th>学时</th>\n",
       "      <th>是否主修</th>\n",
       "      <th>考试日期</th>\n",
       "      <th>绩点</th>\n",
       "      <th>重修重考</th>\n",
       "      <th>等级成绩类型</th>\n",
       "      <th>开课单位</th>\n",
       "    </tr>\n",
       "  </thead>\n",
       "  <tbody>\n",
       "    <tr>\n",
       "      <th>7</th>\n",
       "      <td>2020-2021学年 第一学期</td>\n",
       "      <td>二战简史</td>\n",
       "      <td>78.0</td>\n",
       "      <td>通识选修</td>\n",
       "      <td>选修课</td>\n",
       "      <td>1.5</td>\n",
       "      <td>24.0</td>\n",
       "      <td>是</td>\n",
       "      <td>2020-12-21</td>\n",
       "      <td>2.8</td>\n",
       "      <td>初修</td>\n",
       "      <td>百分制</td>\n",
       "      <td>马克思主义学院</td>\n",
       "    </tr>\n",
       "    <tr>\n",
       "      <th>10</th>\n",
       "      <td>2020-2021学年 第一学期</td>\n",
       "      <td>思想道德修养与法律基础</td>\n",
       "      <td>97.0</td>\n",
       "      <td>通识理论必修</td>\n",
       "      <td>必修课</td>\n",
       "      <td>3.0</td>\n",
       "      <td>48.0</td>\n",
       "      <td>是</td>\n",
       "      <td>2020-12-21</td>\n",
       "      <td>4.7</td>\n",
       "      <td>初修</td>\n",
       "      <td>百分制</td>\n",
       "      <td>马克思主义学院</td>\n",
       "    </tr>\n",
       "    <tr>\n",
       "      <th>12</th>\n",
       "      <td>2020-2021学年 第一学期</td>\n",
       "      <td>形势与政策课(1)</td>\n",
       "      <td>89.0</td>\n",
       "      <td>其他类</td>\n",
       "      <td>必修课</td>\n",
       "      <td>0.0</td>\n",
       "      <td>8.0</td>\n",
       "      <td>是</td>\n",
       "      <td>2020-12-21</td>\n",
       "      <td>3.9</td>\n",
       "      <td>初修</td>\n",
       "      <td>百分制</td>\n",
       "      <td>马克思主义学院</td>\n",
       "    </tr>\n",
       "    <tr>\n",
       "      <th>14</th>\n",
       "      <td>2020-2021学年 第二学期</td>\n",
       "      <td>形势与政策课(2)</td>\n",
       "      <td>87.0</td>\n",
       "      <td>其他类</td>\n",
       "      <td>必修课</td>\n",
       "      <td>0.0</td>\n",
       "      <td>8.0</td>\n",
       "      <td>是</td>\n",
       "      <td>2021-06-01</td>\n",
       "      <td>3.7</td>\n",
       "      <td>初修</td>\n",
       "      <td>百分制</td>\n",
       "      <td>马克思主义学院</td>\n",
       "    </tr>\n",
       "    <tr>\n",
       "      <th>18</th>\n",
       "      <td>2020-2021学年 第二学期</td>\n",
       "      <td>房地产法律制度</td>\n",
       "      <td>90.0</td>\n",
       "      <td>通识选修</td>\n",
       "      <td>选修课</td>\n",
       "      <td>2.0</td>\n",
       "      <td>32.0</td>\n",
       "      <td>是</td>\n",
       "      <td>2021-06-01</td>\n",
       "      <td>4.0</td>\n",
       "      <td>初修</td>\n",
       "      <td>百分制</td>\n",
       "      <td>马克思主义学院</td>\n",
       "    </tr>\n",
       "    <tr>\n",
       "      <th>24</th>\n",
       "      <td>2020-2021学年 第二学期</td>\n",
       "      <td>中国近现代史纲要</td>\n",
       "      <td>88.0</td>\n",
       "      <td>通识理论必修</td>\n",
       "      <td>必修课</td>\n",
       "      <td>3.0</td>\n",
       "      <td>48.0</td>\n",
       "      <td>是</td>\n",
       "      <td>2021-06-23</td>\n",
       "      <td>3.8</td>\n",
       "      <td>初修</td>\n",
       "      <td>百分制</td>\n",
       "      <td>马克思主义学院</td>\n",
       "    </tr>\n",
       "    <tr>\n",
       "      <th>26</th>\n",
       "      <td>2020-2021学年 第二学期</td>\n",
       "      <td>习近平新时代中国特色社会主义思想概论</td>\n",
       "      <td>90.0</td>\n",
       "      <td>通识理论必修</td>\n",
       "      <td>必修课</td>\n",
       "      <td>2.0</td>\n",
       "      <td>32.0</td>\n",
       "      <td>是</td>\n",
       "      <td>2021-06-01</td>\n",
       "      <td>4.0</td>\n",
       "      <td>初修</td>\n",
       "      <td>百分制</td>\n",
       "      <td>马克思主义学院</td>\n",
       "    </tr>\n",
       "    <tr>\n",
       "      <th>31</th>\n",
       "      <td>2021-2022学年 第一学期</td>\n",
       "      <td>形势与政策课(3)</td>\n",
       "      <td>97.0</td>\n",
       "      <td>其他类</td>\n",
       "      <td>必修课</td>\n",
       "      <td>0.0</td>\n",
       "      <td>8.0</td>\n",
       "      <td>是</td>\n",
       "      <td>2021-11-01</td>\n",
       "      <td>4.7</td>\n",
       "      <td>初修</td>\n",
       "      <td>百分制</td>\n",
       "      <td>马克思主义学院</td>\n",
       "    </tr>\n",
       "    <tr>\n",
       "      <th>33</th>\n",
       "      <td>2021-2022学年 第一学期</td>\n",
       "      <td>毛泽东思想和中国特色社会主义理论体系概论</td>\n",
       "      <td>96.0</td>\n",
       "      <td>通识理论必修</td>\n",
       "      <td>必修课</td>\n",
       "      <td>3.0</td>\n",
       "      <td>48.0</td>\n",
       "      <td>是</td>\n",
       "      <td>2022-01-08</td>\n",
       "      <td>4.6</td>\n",
       "      <td>初修</td>\n",
       "      <td>百分制</td>\n",
       "      <td>马克思主义学院</td>\n",
       "    </tr>\n",
       "    <tr>\n",
       "      <th>37</th>\n",
       "      <td>2021-2022学年 第一学期</td>\n",
       "      <td>马克思主义基本原理概论</td>\n",
       "      <td>93.0</td>\n",
       "      <td>通识理论必修</td>\n",
       "      <td>必修课</td>\n",
       "      <td>3.0</td>\n",
       "      <td>48.0</td>\n",
       "      <td>是</td>\n",
       "      <td>2022-01-04</td>\n",
       "      <td>4.3</td>\n",
       "      <td>初修</td>\n",
       "      <td>百分制</td>\n",
       "      <td>马克思主义学院</td>\n",
       "    </tr>\n",
       "    <tr>\n",
       "      <th>53</th>\n",
       "      <td>2021-2022学年 第二学期</td>\n",
       "      <td>思想政治理论课综合实践</td>\n",
       "      <td>97.0</td>\n",
       "      <td>通识实践必修</td>\n",
       "      <td>必修课</td>\n",
       "      <td>2.0</td>\n",
       "      <td>NaN</td>\n",
       "      <td>是</td>\n",
       "      <td>2022-05-02</td>\n",
       "      <td>4.7</td>\n",
       "      <td>初修</td>\n",
       "      <td>百分制</td>\n",
       "      <td>马克思主义学院</td>\n",
       "    </tr>\n",
       "    <tr>\n",
       "      <th>57</th>\n",
       "      <td>2021-2022学年 第二学期</td>\n",
       "      <td>形势与政策课(4)</td>\n",
       "      <td>94.0</td>\n",
       "      <td>其他类</td>\n",
       "      <td>必修课</td>\n",
       "      <td>0.0</td>\n",
       "      <td>8.0</td>\n",
       "      <td>是</td>\n",
       "      <td>2022-05-02</td>\n",
       "      <td>4.4</td>\n",
       "      <td>初修</td>\n",
       "      <td>百分制</td>\n",
       "      <td>马克思主义学院</td>\n",
       "    </tr>\n",
       "  </tbody>\n",
       "</table>\n",
       "</div>"
      ],
      "text/plain": [
       "                学年学期                   课程名   总成绩    课程类别 课程性质   学分    学时 是否主修  \\\n",
       "7   2020-2021学年 第一学期                  二战简史  78.0    通识选修  选修课  1.5  24.0    是   \n",
       "10  2020-2021学年 第一学期           思想道德修养与法律基础  97.0  通识理论必修  必修课  3.0  48.0    是   \n",
       "12  2020-2021学年 第一学期             形势与政策课(1)  89.0     其他类  必修课  0.0   8.0    是   \n",
       "14  2020-2021学年 第二学期             形势与政策课(2)  87.0     其他类  必修课  0.0   8.0    是   \n",
       "18  2020-2021学年 第二学期               房地产法律制度  90.0    通识选修  选修课  2.0  32.0    是   \n",
       "24  2020-2021学年 第二学期              中国近现代史纲要  88.0  通识理论必修  必修课  3.0  48.0    是   \n",
       "26  2020-2021学年 第二学期    习近平新时代中国特色社会主义思想概论  90.0  通识理论必修  必修课  2.0  32.0    是   \n",
       "31  2021-2022学年 第一学期             形势与政策课(3)  97.0     其他类  必修课  0.0   8.0    是   \n",
       "33  2021-2022学年 第一学期  毛泽东思想和中国特色社会主义理论体系概论  96.0  通识理论必修  必修课  3.0  48.0    是   \n",
       "37  2021-2022学年 第一学期           马克思主义基本原理概论  93.0  通识理论必修  必修课  3.0  48.0    是   \n",
       "53  2021-2022学年 第二学期           思想政治理论课综合实践  97.0  通识实践必修  必修课  2.0   NaN    是   \n",
       "57  2021-2022学年 第二学期             形势与政策课(4)  94.0     其他类  必修课  0.0   8.0    是   \n",
       "\n",
       "          考试日期   绩点 重修重考 等级成绩类型     开课单位  \n",
       "7   2020-12-21  2.8   初修    百分制  马克思主义学院  \n",
       "10  2020-12-21  4.7   初修    百分制  马克思主义学院  \n",
       "12  2020-12-21  3.9   初修    百分制  马克思主义学院  \n",
       "14  2021-06-01  3.7   初修    百分制  马克思主义学院  \n",
       "18  2021-06-01  4.0   初修    百分制  马克思主义学院  \n",
       "24  2021-06-23  3.8   初修    百分制  马克思主义学院  \n",
       "26  2021-06-01  4.0   初修    百分制  马克思主义学院  \n",
       "31  2021-11-01  4.7   初修    百分制  马克思主义学院  \n",
       "33  2022-01-08  4.6   初修    百分制  马克思主义学院  \n",
       "37  2022-01-04  4.3   初修    百分制  马克思主义学院  \n",
       "53  2022-05-02  4.7   初修    百分制  马克思主义学院  \n",
       "57  2022-05-02  4.4   初修    百分制  马克思主义学院  "
      ]
     },
     "execution_count": 34,
     "metadata": {},
     "output_type": "execute_result"
    }
   ],
   "source": [
    "dict(list(data.groupby(['开课单位'])))['马克思主义学院']"
   ]
  },
  {
   "attachments": {},
   "cell_type": "markdown",
   "metadata": {},
   "source": [
    "##### 方法三：利用**get_group(key)**方法取值"
   ]
  },
  {
   "cell_type": "code",
   "execution_count": 29,
   "metadata": {},
   "outputs": [
    {
     "data": {
      "text/html": [
       "<div>\n",
       "<style scoped>\n",
       "    .dataframe tbody tr th:only-of-type {\n",
       "        vertical-align: middle;\n",
       "    }\n",
       "\n",
       "    .dataframe tbody tr th {\n",
       "        vertical-align: top;\n",
       "    }\n",
       "\n",
       "    .dataframe thead th {\n",
       "        text-align: right;\n",
       "    }\n",
       "</style>\n",
       "<table border=\"1\" class=\"dataframe\">\n",
       "  <thead>\n",
       "    <tr style=\"text-align: right;\">\n",
       "      <th></th>\n",
       "      <th>学年学期</th>\n",
       "      <th>课程名</th>\n",
       "      <th>总成绩</th>\n",
       "      <th>课程类别</th>\n",
       "      <th>课程性质</th>\n",
       "      <th>学分</th>\n",
       "      <th>学时</th>\n",
       "      <th>是否主修</th>\n",
       "      <th>考试日期</th>\n",
       "      <th>绩点</th>\n",
       "      <th>重修重考</th>\n",
       "      <th>等级成绩类型</th>\n",
       "      <th>开课单位</th>\n",
       "    </tr>\n",
       "  </thead>\n",
       "  <tbody>\n",
       "    <tr>\n",
       "      <th>2</th>\n",
       "      <td>2020-2021学年 第一学期</td>\n",
       "      <td>C语言程序设计A</td>\n",
       "      <td>90.0</td>\n",
       "      <td>通识理论必修</td>\n",
       "      <td>必修课</td>\n",
       "      <td>4.0</td>\n",
       "      <td>64.0</td>\n",
       "      <td>是</td>\n",
       "      <td>2020-12-21</td>\n",
       "      <td>4.0</td>\n",
       "      <td>初修</td>\n",
       "      <td>百分制</td>\n",
       "      <td>计算中心</td>\n",
       "    </tr>\n",
       "  </tbody>\n",
       "</table>\n",
       "</div>"
      ],
      "text/plain": [
       "               学年学期       课程名   总成绩    课程类别 课程性质   学分    学时 是否主修        考试日期  \\\n",
       "2  2020-2021学年 第一学期  C语言程序设计A  90.0  通识理论必修  必修课  4.0  64.0    是  2020-12-21   \n",
       "\n",
       "    绩点 重修重考 等级成绩类型  开课单位  \n",
       "2  4.0   初修    百分制  计算中心  "
      ]
     },
     "execution_count": 29,
     "metadata": {},
     "output_type": "execute_result"
    }
   ],
   "source": [
    "data.groupby(['开课单位']).get_group('计算中心')"
   ]
  },
  {
   "attachments": {},
   "cell_type": "markdown",
   "metadata": {},
   "source": [
    "### 按照数据类型分组"
   ]
  },
  {
   "cell_type": "code",
   "execution_count": 37,
   "metadata": {},
   "outputs": [
    {
     "data": {
      "text/plain": [
       "学年学期       object\n",
       "课程名        object\n",
       "总成绩       float64\n",
       "课程类别       object\n",
       "课程性质       object\n",
       "学分        float64\n",
       "学时        float64\n",
       "是否主修       object\n",
       "考试日期       object\n",
       "绩点        float64\n",
       "重修重考       object\n",
       "等级成绩类型     object\n",
       "开课单位       object\n",
       "dtype: object"
      ]
     },
     "execution_count": 37,
     "metadata": {},
     "output_type": "execute_result"
    }
   ],
   "source": [
    "data.dtypes"
   ]
  },
  {
   "cell_type": "code",
   "execution_count": 31,
   "metadata": {},
   "outputs": [
    {
     "name": "stdout",
     "output_type": "stream",
     "text": [
      "float64\n",
      "     总成绩   学分    学时   绩点\n",
      "0   70.0  2.0  30.0  2.0\n",
      "1   95.0  2.0  80.0  4.5\n",
      "2   90.0  4.0  64.0  4.0\n",
      "3   86.0  1.0  20.0  3.6\n",
      "4   98.0  2.0  32.0  4.8\n",
      "..   ...  ...   ...  ...\n",
      "62  97.0  2.0  32.0  4.7\n",
      "63  88.0  2.5  40.0  3.8\n",
      "64  95.0  1.0   NaN  4.5\n",
      "65  90.0  2.5  40.0  4.0\n",
      "66  90.0  1.5  24.0  4.0\n",
      "\n",
      "[67 rows x 4 columns]\n",
      "object\n",
      "                学年学期              课程名    课程类别 课程性质 是否主修        考试日期 重修重考  \\\n",
      "0   2021-2022学年 第一学期  英语应用能力训练与提高（雅思）    通识选修  选修课    是  2022-03-18   初修   \n",
      "1    2020-2021学年 小学期               军训     其他类  必修课    是  2021-07-11   初修   \n",
      "2   2020-2021学年 第一学期         C语言程序设计A  通识理论必修  必修课    是  2020-12-21   初修   \n",
      "3   2020-2021学年 第一学期        大学生安全知识教育     其他类  必修课    是  2020-12-21   初修   \n",
      "4   2020-2021学年 第一学期          大学生心理健康     其他类  必修课    是  2020-12-21   初修   \n",
      "..               ...              ...     ...  ...  ...         ...  ...   \n",
      "62  2022-2023学年 第一学期        大数据营销(双语)  专业理论选修  选修课    是  2022-11-07   初修   \n",
      "63  2022-2023学年 第一学期          预测方法与技术  学科理论必修  必修课    是  2022-12-12   初修   \n",
      "64  2022-2023学年 第一学期          计算机网络实践  学科实践必修  必修课    是  2022-11-07   初修   \n",
      "65  2022-2023学年 第一学期            计算机网络  学科理论必修  必修课    是  2022-12-13   初修   \n",
      "66  2020-2021学年 第二学期            健康免疫学    通识选修  选修课    是  2021-06-01   初修   \n",
      "\n",
      "   等级成绩类型    开课单位  \n",
      "0     百分制      校际  \n",
      "1     五级制     学生处  \n",
      "2     百分制    计算中心  \n",
      "3     百分制     安稳处  \n",
      "4     百分制     学生处  \n",
      "..    ...     ...  \n",
      "62    百分制  信息管理学院  \n",
      "63    百分制  信息管理学院  \n",
      "64    五级制  信息管理学院  \n",
      "65    百分制  信息管理学院  \n",
      "66    百分制      校际  \n",
      "\n",
      "[67 rows x 9 columns]\n"
     ]
    }
   ],
   "source": [
    "for k,v in data.groupby(data.dtypes,axis=1):\n",
    "    print(k)\n",
    "    print(v)"
   ]
  },
  {
   "attachments": {},
   "cell_type": "markdown",
   "metadata": {},
   "source": [
    "### 分组中常用的聚合函数"
   ]
  },
  {
   "attachments": {},
   "cell_type": "markdown",
   "metadata": {},
   "source": [
    "#### 最大最小等"
   ]
  },
  {
   "cell_type": "code",
   "execution_count": 49,
   "metadata": {},
   "outputs": [
    {
     "data": {
      "text/html": [
       "<div>\n",
       "<style scoped>\n",
       "    .dataframe tbody tr th:only-of-type {\n",
       "        vertical-align: middle;\n",
       "    }\n",
       "\n",
       "    .dataframe tbody tr th {\n",
       "        vertical-align: top;\n",
       "    }\n",
       "\n",
       "    .dataframe thead th {\n",
       "        text-align: right;\n",
       "    }\n",
       "</style>\n",
       "<table border=\"1\" class=\"dataframe\">\n",
       "  <thead>\n",
       "    <tr style=\"text-align: right;\">\n",
       "      <th></th>\n",
       "      <th>学年学期</th>\n",
       "      <th>课程名</th>\n",
       "      <th>总成绩</th>\n",
       "      <th>课程类别</th>\n",
       "      <th>课程性质</th>\n",
       "      <th>学分</th>\n",
       "      <th>是否主修</th>\n",
       "      <th>考试日期</th>\n",
       "      <th>绩点</th>\n",
       "      <th>重修重考</th>\n",
       "      <th>等级成绩类型</th>\n",
       "      <th>开课单位</th>\n",
       "    </tr>\n",
       "    <tr>\n",
       "      <th>学时</th>\n",
       "      <th></th>\n",
       "      <th></th>\n",
       "      <th></th>\n",
       "      <th></th>\n",
       "      <th></th>\n",
       "      <th></th>\n",
       "      <th></th>\n",
       "      <th></th>\n",
       "      <th></th>\n",
       "      <th></th>\n",
       "      <th></th>\n",
       "      <th></th>\n",
       "    </tr>\n",
       "  </thead>\n",
       "  <tbody>\n",
       "    <tr>\n",
       "      <th>8.0</th>\n",
       "      <td>2021-2022学年 第二学期</td>\n",
       "      <td>形势与政策课(4)</td>\n",
       "      <td>97.0</td>\n",
       "      <td>其他类</td>\n",
       "      <td>必修课</td>\n",
       "      <td>0.0</td>\n",
       "      <td>是</td>\n",
       "      <td>2022-05-02</td>\n",
       "      <td>4.7</td>\n",
       "      <td>初修</td>\n",
       "      <td>百分制</td>\n",
       "      <td>马克思主义学院</td>\n",
       "    </tr>\n",
       "    <tr>\n",
       "      <th>16.0</th>\n",
       "      <td>2022-2023学年 第一学期</td>\n",
       "      <td>大数据可视化</td>\n",
       "      <td>88.0</td>\n",
       "      <td>学科理论必修</td>\n",
       "      <td>选修课</td>\n",
       "      <td>1.0</td>\n",
       "      <td>是</td>\n",
       "      <td>2022-11-07</td>\n",
       "      <td>3.8</td>\n",
       "      <td>初修</td>\n",
       "      <td>百分制</td>\n",
       "      <td>信息管理学院</td>\n",
       "    </tr>\n",
       "    <tr>\n",
       "      <th>20.0</th>\n",
       "      <td>2020-2021学年 第一学期</td>\n",
       "      <td>大学生安全知识教育</td>\n",
       "      <td>86.0</td>\n",
       "      <td>其他类</td>\n",
       "      <td>必修课</td>\n",
       "      <td>1.0</td>\n",
       "      <td>是</td>\n",
       "      <td>2020-12-21</td>\n",
       "      <td>3.6</td>\n",
       "      <td>初修</td>\n",
       "      <td>百分制</td>\n",
       "      <td>安稳处</td>\n",
       "    </tr>\n",
       "    <tr>\n",
       "      <th>24.0</th>\n",
       "      <td>2021-2022学年 第二学期</td>\n",
       "      <td>现代企业管理概论</td>\n",
       "      <td>99.0</td>\n",
       "      <td>通识选修</td>\n",
       "      <td>选修课</td>\n",
       "      <td>1.5</td>\n",
       "      <td>是</td>\n",
       "      <td>2022-05-02</td>\n",
       "      <td>4.9</td>\n",
       "      <td>初修</td>\n",
       "      <td>百分制</td>\n",
       "      <td>马克思主义学院</td>\n",
       "    </tr>\n",
       "    <tr>\n",
       "      <th>30.0</th>\n",
       "      <td>2021-2022学年 第一学期</td>\n",
       "      <td>英语应用能力训练与提高（雅思）</td>\n",
       "      <td>70.0</td>\n",
       "      <td>通识选修</td>\n",
       "      <td>选修课</td>\n",
       "      <td>2.0</td>\n",
       "      <td>是</td>\n",
       "      <td>2022-03-18</td>\n",
       "      <td>2.0</td>\n",
       "      <td>初修</td>\n",
       "      <td>百分制</td>\n",
       "      <td>校际</td>\n",
       "    </tr>\n",
       "    <tr>\n",
       "      <th>32.0</th>\n",
       "      <td>2022-2023学年 第一学期</td>\n",
       "      <td>高级英语听说</td>\n",
       "      <td>98.0</td>\n",
       "      <td>通识选修</td>\n",
       "      <td>选修课</td>\n",
       "      <td>2.0</td>\n",
       "      <td>是</td>\n",
       "      <td>2022-12-05</td>\n",
       "      <td>4.8</td>\n",
       "      <td>重修</td>\n",
       "      <td>百分制</td>\n",
       "      <td>马克思主义学院</td>\n",
       "    </tr>\n",
       "    <tr>\n",
       "      <th>40.0</th>\n",
       "      <td>2022-2023学年 第一学期</td>\n",
       "      <td>预测方法与技术</td>\n",
       "      <td>90.0</td>\n",
       "      <td>学科理论必修</td>\n",
       "      <td>选修课</td>\n",
       "      <td>2.5</td>\n",
       "      <td>是</td>\n",
       "      <td>2022-12-13</td>\n",
       "      <td>4.0</td>\n",
       "      <td>初修</td>\n",
       "      <td>百分制</td>\n",
       "      <td>信息管理学院</td>\n",
       "    </tr>\n",
       "    <tr>\n",
       "      <th>48.0</th>\n",
       "      <td>2021-2022学年 第二学期</td>\n",
       "      <td>马克思主义基本原理概论</td>\n",
       "      <td>97.0</td>\n",
       "      <td>通识理论必修</td>\n",
       "      <td>必修课</td>\n",
       "      <td>3.0</td>\n",
       "      <td>是</td>\n",
       "      <td>2022-06-17</td>\n",
       "      <td>4.7</td>\n",
       "      <td>初修</td>\n",
       "      <td>百分制</td>\n",
       "      <td>马克思主义学院</td>\n",
       "    </tr>\n",
       "    <tr>\n",
       "      <th>56.0</th>\n",
       "      <td>2021-2022学年 第二学期</td>\n",
       "      <td>数据库系统基础</td>\n",
       "      <td>88.0</td>\n",
       "      <td>学科理论必修</td>\n",
       "      <td>必修课</td>\n",
       "      <td>3.5</td>\n",
       "      <td>是</td>\n",
       "      <td>2022-06-13</td>\n",
       "      <td>3.8</td>\n",
       "      <td>初修</td>\n",
       "      <td>百分制</td>\n",
       "      <td>信息管理学院</td>\n",
       "    </tr>\n",
       "    <tr>\n",
       "      <th>64.0</th>\n",
       "      <td>2021-2022学年 第二学期</td>\n",
       "      <td>面向对象程序设计(Java)</td>\n",
       "      <td>92.0</td>\n",
       "      <td>通识理论必修</td>\n",
       "      <td>必修课</td>\n",
       "      <td>4.0</td>\n",
       "      <td>是</td>\n",
       "      <td>2022-06-17</td>\n",
       "      <td>4.2</td>\n",
       "      <td>初修</td>\n",
       "      <td>百分制</td>\n",
       "      <td>计算中心</td>\n",
       "    </tr>\n",
       "    <tr>\n",
       "      <th>80.0</th>\n",
       "      <td>2020-2021学年 第二学期</td>\n",
       "      <td>高等数学A(2)</td>\n",
       "      <td>95.0</td>\n",
       "      <td>通识理论必修</td>\n",
       "      <td>必修课</td>\n",
       "      <td>5.0</td>\n",
       "      <td>是</td>\n",
       "      <td>2021-07-11</td>\n",
       "      <td>4.5</td>\n",
       "      <td>初修</td>\n",
       "      <td>百分制</td>\n",
       "      <td>理学院</td>\n",
       "    </tr>\n",
       "    <tr>\n",
       "      <th>96.0</th>\n",
       "      <td>2020-2021学年 第一学期</td>\n",
       "      <td>高等数学A(1)</td>\n",
       "      <td>91.0</td>\n",
       "      <td>通识理论必修</td>\n",
       "      <td>必修课</td>\n",
       "      <td>6.0</td>\n",
       "      <td>是</td>\n",
       "      <td>2020-12-21</td>\n",
       "      <td>4.1</td>\n",
       "      <td>初修</td>\n",
       "      <td>百分制</td>\n",
       "      <td>理学院</td>\n",
       "    </tr>\n",
       "  </tbody>\n",
       "</table>\n",
       "</div>"
      ],
      "text/plain": [
       "                  学年学期              课程名   总成绩    课程类别 课程性质   学分 是否主修  \\\n",
       "学时                                                                     \n",
       "8.0   2021-2022学年 第二学期        形势与政策课(4)  97.0     其他类  必修课  0.0    是   \n",
       "16.0  2022-2023学年 第一学期           大数据可视化  88.0  学科理论必修  选修课  1.0    是   \n",
       "20.0  2020-2021学年 第一学期        大学生安全知识教育  86.0     其他类  必修课  1.0    是   \n",
       "24.0  2021-2022学年 第二学期         现代企业管理概论  99.0    通识选修  选修课  1.5    是   \n",
       "30.0  2021-2022学年 第一学期  英语应用能力训练与提高（雅思）  70.0    通识选修  选修课  2.0    是   \n",
       "32.0  2022-2023学年 第一学期           高级英语听说  98.0    通识选修  选修课  2.0    是   \n",
       "40.0  2022-2023学年 第一学期          预测方法与技术  90.0  学科理论必修  选修课  2.5    是   \n",
       "48.0  2021-2022学年 第二学期      马克思主义基本原理概论  97.0  通识理论必修  必修课  3.0    是   \n",
       "56.0  2021-2022学年 第二学期          数据库系统基础  88.0  学科理论必修  必修课  3.5    是   \n",
       "64.0  2021-2022学年 第二学期   面向对象程序设计(Java)  92.0  通识理论必修  必修课  4.0    是   \n",
       "80.0  2020-2021学年 第二学期         高等数学A(2)  95.0  通识理论必修  必修课  5.0    是   \n",
       "96.0  2020-2021学年 第一学期         高等数学A(1)  91.0  通识理论必修  必修课  6.0    是   \n",
       "\n",
       "            考试日期   绩点 重修重考 等级成绩类型     开课单位  \n",
       "学时                                          \n",
       "8.0   2022-05-02  4.7   初修    百分制  马克思主义学院  \n",
       "16.0  2022-11-07  3.8   初修    百分制   信息管理学院  \n",
       "20.0  2020-12-21  3.6   初修    百分制      安稳处  \n",
       "24.0  2022-05-02  4.9   初修    百分制  马克思主义学院  \n",
       "30.0  2022-03-18  2.0   初修    百分制       校际  \n",
       "32.0  2022-12-05  4.8   重修    百分制  马克思主义学院  \n",
       "40.0  2022-12-13  4.0   初修    百分制   信息管理学院  \n",
       "48.0  2022-06-17  4.7   初修    百分制  马克思主义学院  \n",
       "56.0  2022-06-13  3.8   初修    百分制   信息管理学院  \n",
       "64.0  2022-06-17  4.2   初修    百分制     计算中心  \n",
       "80.0  2021-07-11  4.5   初修    百分制      理学院  \n",
       "96.0  2020-12-21  4.1   初修    百分制      理学院  "
      ]
     },
     "execution_count": 49,
     "metadata": {},
     "output_type": "execute_result"
    }
   ],
   "source": [
    "# 取出按学时分组下的各字段的最大值\n",
    "data.groupby('学时').max()"
   ]
  },
  {
   "cell_type": "code",
   "execution_count": 54,
   "metadata": {},
   "outputs": [
    {
     "data": {
      "text/plain": [
       "必修课    52\n",
       "选修课    15\n",
       "Name: 课程性质, dtype: int64"
      ]
     },
     "execution_count": 54,
     "metadata": {},
     "output_type": "execute_result"
    }
   ],
   "source": [
    "data['课程性质'].value_counts()"
   ]
  },
  {
   "cell_type": "code",
   "execution_count": 92,
   "metadata": {},
   "outputs": [],
   "source": [
    "data_gpa_1 = data.groupby(['课程类别']).get_group('通识理论必修')[['学分','绩点']]\n",
    "data_gpa_2 = data.groupby(['课程类别']).get_group('通识实践必修')[['学分','绩点']]\n",
    "data_gpa_3 = data.groupby(['课程类别']).get_group('学科理论必修')[['学分','绩点']]\n",
    "data_gpa_4 = data.groupby(['课程类别']).get_group('学科实践必修')[['学分','绩点']]\n",
    "data_gpa_5 = data.groupby(['课程类别']).get_group('专业理论必修')[['学分','绩点']]\n",
    "data_gpa_6 = data.groupby(['课程类别']).get_group('专业实践必修')[['学分','绩点']]"
   ]
  },
  {
   "cell_type": "code",
   "execution_count": 94,
   "metadata": {},
   "outputs": [],
   "source": [
    "# 纵向连接df1和df2\n",
    "df_contact = pd.concat([data_gpa_1,data_gpa_2,data_gpa_3,data_gpa_4,data_gpa_5,data_gpa_6],ignore_index=True)  # 参数是一个列表"
   ]
  },
  {
   "cell_type": "code",
   "execution_count": 66,
   "metadata": {},
   "outputs": [],
   "source": [
    "def gpa(credits,gpa):\n",
    "    sum_grade_point = sum(credits*gpa)\n",
    "    return sum_grade_point / sum(credits)"
   ]
  },
  {
   "cell_type": "code",
   "execution_count": 95,
   "metadata": {},
   "outputs": [
    {
     "data": {
      "text/plain": [
       "4.039336492890995"
      ]
     },
     "execution_count": 95,
     "metadata": {},
     "output_type": "execute_result"
    }
   ],
   "source": [
    "gpa(df_contact.学分,df_contact.绩点)"
   ]
  },
  {
   "attachments": {},
   "cell_type": "markdown",
   "metadata": {},
   "source": [
    "# 数据可视化"
   ]
  },
  {
   "cell_type": "code",
   "execution_count": null,
   "metadata": {},
   "outputs": [],
   "source": []
  }
 ],
 "metadata": {
  "kernelspec": {
   "display_name": "emo_rec",
   "language": "python",
   "name": "python3"
  },
  "language_info": {
   "codemirror_mode": {
    "name": "ipython",
    "version": 3
   },
   "file_extension": ".py",
   "mimetype": "text/x-python",
   "name": "python",
   "nbconvert_exporter": "python",
   "pygments_lexer": "ipython3",
   "version": "3.8.13"
  },
  "toc": {
   "base_numbering": 1,
   "nav_menu": {},
   "number_sections": true,
   "sideBar": true,
   "skip_h1_title": false,
   "title_cell": "Table of Contents",
   "title_sidebar": "Contents",
   "toc_cell": false,
   "toc_position": {},
   "toc_section_display": true,
   "toc_window_display": true
  },
  "vscode": {
   "interpreter": {
    "hash": "f44a133a4907caf0c745941a361306f911f6ec16ad27eab52386ab95c0a716bc"
   }
  }
 },
 "nbformat": 4,
 "nbformat_minor": 2
}
